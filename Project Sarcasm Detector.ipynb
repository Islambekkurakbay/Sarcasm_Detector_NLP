{
 "cells": [
  {
   "cell_type": "markdown",
   "id": "6bee0a21",
   "metadata": {},
   "source": [
    "## Sarcasm Detector - Final Project\n",
    "Course: Natural Language Processing <br>\n",
    "Team members: Islam-Bek K., Haeun L., Jeyeong P.\n"
   ]
  },
  {
   "cell_type": "markdown",
   "id": "dd87ddc6",
   "metadata": {},
   "source": [
    "### Questions to be answered"
   ]
  },
  {
   "cell_type": "markdown",
   "id": "3a941e6a",
   "metadata": {},
   "source": [
    "What is Sarcasm?\n",
    "* Sarcasm is the act of complaining, mocking. Often it is a hostility disguised as humour. Used rarely and differs by regions and cultures. \n",
    "* The term \"sarkasmos\" came from Greek meaning \"to tear flesh, bite the lip in rage, sneer\"\n",
    "\n",
    "Why is Sarcasm?\n",
    "* Sarcasm is the narrow field in Natural Language Processing, since it focuses not on separate word sentiments, but overall on the context or whole spectrum of the message.\n",
    "\n",
    "What are the types of Sarcasm?\n",
    "1. Self-Deprecating - poking fun by a person of himself\n",
    "2. Brooding - sounds polite, but really about complaining\n",
    "3. Deadpan - serious sarcasm\n",
    "4. Polite - says for itself\n",
    "\n",
    "What are the features that Sarcasm messages have?\n",
    "1. They are often expressive\n",
    "2. They are controversial to the initial message direction/sentiment\n",
    "3. Mostly sarcasm messages contain two parts: background information, sarcasm part\n",
    "\n",
    "How is Sarcasm will be processed and classified?\n",
    "1. Naive-Bayes or Random Forest\n",
    "2. RNN\n",
    "3. LSTM and GRU\n",
    "4. Transformers"
   ]
  },
  {
   "cell_type": "markdown",
   "id": "1d6785e3",
   "metadata": {},
   "source": [
    "### Course of Action\n",
    "1. Find dataset\n",
    "2. Preprocess, TFIDF\n",
    "3. Create model and train\n",
    "4. Predict"
   ]
  },
  {
   "cell_type": "markdown",
   "id": "fa04f533",
   "metadata": {},
   "source": [
    "### Sarcasm Examples"
   ]
  },
  {
   "cell_type": "markdown",
   "id": "9aa397c9",
   "metadata": {},
   "source": [
    "<img src='angel.PNG' align='left' width=350>"
   ]
  },
  {
   "cell_type": "code",
   "execution_count": 1,
   "id": "6561f8f9",
   "metadata": {},
   "outputs": [],
   "source": [
    "text = 'Going to Africa today. Hope I don\\'t get AIDS. Joking, I am white!!'"
   ]
  },
  {
   "cell_type": "code",
   "execution_count": 2,
   "id": "e78f79da",
   "metadata": {},
   "outputs": [],
   "source": [
    "text2 = 'My favorite thing to do at 4am is to go to the airport. And yours??'"
   ]
  },
  {
   "cell_type": "code",
   "execution_count": 3,
   "id": "bf3eeefa",
   "metadata": {},
   "outputs": [],
   "source": [
    "text3 = 'Wow, I really didn’t expect you to pass that exam. Good for you!!!'"
   ]
  },
  {
   "cell_type": "code",
   "execution_count": 4,
   "id": "3c8c113d",
   "metadata": {},
   "outputs": [],
   "source": [
    "text4 = 'Thank you for your feedback. It WaS ReAlLy InSIgGhTFul!'"
   ]
  },
  {
   "cell_type": "markdown",
   "id": "da45217e",
   "metadata": {},
   "source": [
    "## Load the Dataset"
   ]
  },
  {
   "cell_type": "code",
   "execution_count": 5,
   "id": "7e4ad982",
   "metadata": {},
   "outputs": [],
   "source": [
    "import pandas as pd\n",
    "import numpy as np\n",
    "\n",
    "data = pd.read_csv('train-balanced-sarcasm.csv')"
   ]
  },
  {
   "cell_type": "code",
   "execution_count": 6,
   "id": "911e3daa",
   "metadata": {},
   "outputs": [
    {
     "data": {
      "text/html": [
       "<div>\n",
       "<style scoped>\n",
       "    .dataframe tbody tr th:only-of-type {\n",
       "        vertical-align: middle;\n",
       "    }\n",
       "\n",
       "    .dataframe tbody tr th {\n",
       "        vertical-align: top;\n",
       "    }\n",
       "\n",
       "    .dataframe thead th {\n",
       "        text-align: right;\n",
       "    }\n",
       "</style>\n",
       "<table border=\"1\" class=\"dataframe\">\n",
       "  <thead>\n",
       "    <tr style=\"text-align: right;\">\n",
       "      <th></th>\n",
       "      <th>label</th>\n",
       "      <th>comment</th>\n",
       "      <th>author</th>\n",
       "      <th>subreddit</th>\n",
       "      <th>score</th>\n",
       "      <th>ups</th>\n",
       "      <th>downs</th>\n",
       "      <th>date</th>\n",
       "      <th>created_utc</th>\n",
       "      <th>parent_comment</th>\n",
       "    </tr>\n",
       "  </thead>\n",
       "  <tbody>\n",
       "    <tr>\n",
       "      <th>0</th>\n",
       "      <td>0</td>\n",
       "      <td>NC and NH.</td>\n",
       "      <td>Trumpbart</td>\n",
       "      <td>politics</td>\n",
       "      <td>2</td>\n",
       "      <td>-1</td>\n",
       "      <td>-1</td>\n",
       "      <td>2016-10</td>\n",
       "      <td>2016-10-16 23:55:23</td>\n",
       "      <td>Yeah, I get that argument. At this point, I'd ...</td>\n",
       "    </tr>\n",
       "    <tr>\n",
       "      <th>1</th>\n",
       "      <td>0</td>\n",
       "      <td>You do know west teams play against west teams...</td>\n",
       "      <td>Shbshb906</td>\n",
       "      <td>nba</td>\n",
       "      <td>-4</td>\n",
       "      <td>-1</td>\n",
       "      <td>-1</td>\n",
       "      <td>2016-11</td>\n",
       "      <td>2016-11-01 00:24:10</td>\n",
       "      <td>The blazers and Mavericks (The wests 5 and 6 s...</td>\n",
       "    </tr>\n",
       "    <tr>\n",
       "      <th>2</th>\n",
       "      <td>0</td>\n",
       "      <td>They were underdogs earlier today, but since G...</td>\n",
       "      <td>Creepeth</td>\n",
       "      <td>nfl</td>\n",
       "      <td>3</td>\n",
       "      <td>3</td>\n",
       "      <td>0</td>\n",
       "      <td>2016-09</td>\n",
       "      <td>2016-09-22 21:45:37</td>\n",
       "      <td>They're favored to win.</td>\n",
       "    </tr>\n",
       "  </tbody>\n",
       "</table>\n",
       "</div>"
      ],
      "text/plain": [
       "   label                                            comment     author  \\\n",
       "0      0                                         NC and NH.  Trumpbart   \n",
       "1      0  You do know west teams play against west teams...  Shbshb906   \n",
       "2      0  They were underdogs earlier today, but since G...   Creepeth   \n",
       "\n",
       "  subreddit  score  ups  downs     date          created_utc  \\\n",
       "0  politics      2   -1     -1  2016-10  2016-10-16 23:55:23   \n",
       "1       nba     -4   -1     -1  2016-11  2016-11-01 00:24:10   \n",
       "2       nfl      3    3      0  2016-09  2016-09-22 21:45:37   \n",
       "\n",
       "                                      parent_comment  \n",
       "0  Yeah, I get that argument. At this point, I'd ...  \n",
       "1  The blazers and Mavericks (The wests 5 and 6 s...  \n",
       "2                            They're favored to win.  "
      ]
     },
     "metadata": {},
     "output_type": "display_data"
    },
    {
     "data": {
      "text/html": [
       "<div>\n",
       "<style scoped>\n",
       "    .dataframe tbody tr th:only-of-type {\n",
       "        vertical-align: middle;\n",
       "    }\n",
       "\n",
       "    .dataframe tbody tr th {\n",
       "        vertical-align: top;\n",
       "    }\n",
       "\n",
       "    .dataframe thead th {\n",
       "        text-align: right;\n",
       "    }\n",
       "</style>\n",
       "<table border=\"1\" class=\"dataframe\">\n",
       "  <thead>\n",
       "    <tr style=\"text-align: right;\">\n",
       "      <th></th>\n",
       "      <th>label</th>\n",
       "      <th>comment</th>\n",
       "      <th>subreddit</th>\n",
       "      <th>score</th>\n",
       "      <th>parent_comment</th>\n",
       "    </tr>\n",
       "  </thead>\n",
       "  <tbody>\n",
       "    <tr>\n",
       "      <th>0</th>\n",
       "      <td>0</td>\n",
       "      <td>NC and NH.</td>\n",
       "      <td>politics</td>\n",
       "      <td>2</td>\n",
       "      <td>Yeah, I get that argument. At this point, I'd ...</td>\n",
       "    </tr>\n",
       "    <tr>\n",
       "      <th>1</th>\n",
       "      <td>0</td>\n",
       "      <td>You do know west teams play against west teams...</td>\n",
       "      <td>nba</td>\n",
       "      <td>-4</td>\n",
       "      <td>The blazers and Mavericks (The wests 5 and 6 s...</td>\n",
       "    </tr>\n",
       "    <tr>\n",
       "      <th>2</th>\n",
       "      <td>0</td>\n",
       "      <td>They were underdogs earlier today, but since G...</td>\n",
       "      <td>nfl</td>\n",
       "      <td>3</td>\n",
       "      <td>They're favored to win.</td>\n",
       "    </tr>\n",
       "  </tbody>\n",
       "</table>\n",
       "</div>"
      ],
      "text/plain": [
       "   label                                            comment subreddit  score  \\\n",
       "0      0                                         NC and NH.  politics      2   \n",
       "1      0  You do know west teams play against west teams...       nba     -4   \n",
       "2      0  They were underdogs earlier today, but since G...       nfl      3   \n",
       "\n",
       "                                      parent_comment  \n",
       "0  Yeah, I get that argument. At this point, I'd ...  \n",
       "1  The blazers and Mavericks (The wests 5 and 6 s...  \n",
       "2                            They're favored to win.  "
      ]
     },
     "execution_count": 6,
     "metadata": {},
     "output_type": "execute_result"
    }
   ],
   "source": [
    "# train dataset\n",
    "display(data.head(3))\n",
    "\n",
    "data.drop(['author', 'ups', 'downs', 'date', 'created_utc'], axis=1, inplace=True)\n",
    "\n",
    "data.head(3)"
   ]
  },
  {
   "cell_type": "code",
   "execution_count": 7,
   "id": "e83ef87e",
   "metadata": {},
   "outputs": [
    {
     "data": {
      "text/plain": [
       "33                  But they'll have all those reviews!\n",
       "44    wow it is totally unreasonable to assume that ...\n",
       "45    Ho ho ho... But Melania said that there is no ...\n",
       "66    I can't wait until @potus starts a twitter war...\n",
       "69    gotta love the teachers who give exams on the ...\n",
       "Name: comment, dtype: object"
      ]
     },
     "execution_count": 7,
     "metadata": {},
     "output_type": "execute_result"
    }
   ],
   "source": [
    "data[data['label'] == 1].comment.head(5)"
   ]
  },
  {
   "cell_type": "code",
   "execution_count": 8,
   "id": "79fc07ca",
   "metadata": {},
   "outputs": [
    {
     "data": {
      "text/plain": [
       "0    505413\n",
       "1    505413\n",
       "Name: label, dtype: int64"
      ]
     },
     "execution_count": 8,
     "metadata": {},
     "output_type": "execute_result"
    }
   ],
   "source": [
    "# count of sarcastic and non-sarcastic rows\n",
    "data.label.value_counts()"
   ]
  },
  {
   "cell_type": "code",
   "execution_count": 9,
   "id": "4b1edc90",
   "metadata": {
    "scrolled": true
   },
   "outputs": [
    {
     "data": {
      "text/plain": [
       "AskReddit                65677\n",
       "politics                 39496\n",
       "worldnews                26377\n",
       "leagueoflegends          21037\n",
       "pcmasterrace             18988\n",
       "                         ...  \n",
       "LabiaGW                      1\n",
       "Expected                     1\n",
       "AnimalsStoppingFights        1\n",
       "panderingfromtheright        1\n",
       "Pandemic                     1\n",
       "Name: subreddit, Length: 14878, dtype: int64"
      ]
     },
     "execution_count": 9,
     "metadata": {},
     "output_type": "execute_result"
    }
   ],
   "source": [
    "# count of subreddit topics\n",
    "data.subreddit.value_counts()"
   ]
  },
  {
   "cell_type": "markdown",
   "id": "4a0d9449",
   "metadata": {},
   "source": [
    "### Most scored comment"
   ]
  },
  {
   "cell_type": "code",
   "execution_count": 10,
   "id": "16140ae4",
   "metadata": {},
   "outputs": [
    {
     "data": {
      "text/html": [
       "<div>\n",
       "<style scoped>\n",
       "    .dataframe tbody tr th:only-of-type {\n",
       "        vertical-align: middle;\n",
       "    }\n",
       "\n",
       "    .dataframe tbody tr th {\n",
       "        vertical-align: top;\n",
       "    }\n",
       "\n",
       "    .dataframe thead th {\n",
       "        text-align: right;\n",
       "    }\n",
       "</style>\n",
       "<table border=\"1\" class=\"dataframe\">\n",
       "  <thead>\n",
       "    <tr style=\"text-align: right;\">\n",
       "      <th></th>\n",
       "      <th>label</th>\n",
       "      <th>comment</th>\n",
       "      <th>subreddit</th>\n",
       "      <th>score</th>\n",
       "      <th>parent_comment</th>\n",
       "    </tr>\n",
       "  </thead>\n",
       "  <tbody>\n",
       "    <tr>\n",
       "      <th>143497</th>\n",
       "      <td>1</td>\n",
       "      <td>That's exactly what a country who made up a ho...</td>\n",
       "      <td>worldnews</td>\n",
       "      <td>9070</td>\n",
       "      <td>China Tells Trump That Climate Change Is No Ho...</td>\n",
       "    </tr>\n",
       "  </tbody>\n",
       "</table>\n",
       "</div>"
      ],
      "text/plain": [
       "        label                                            comment  subreddit  \\\n",
       "143497      1  That's exactly what a country who made up a ho...  worldnews   \n",
       "\n",
       "        score                                     parent_comment  \n",
       "143497   9070  China Tells Trump That Climate Change Is No Ho...  "
      ]
     },
     "metadata": {},
     "output_type": "display_data"
    }
   ],
   "source": [
    "display(data[data.score == data.score.max()])"
   ]
  },
  {
   "cell_type": "code",
   "execution_count": 11,
   "id": "660897ce",
   "metadata": {},
   "outputs": [
    {
     "data": {
      "text/plain": [
       "'China Tells Trump That Climate Change Is No Hoax It Invented'"
      ]
     },
     "execution_count": 11,
     "metadata": {},
     "output_type": "execute_result"
    }
   ],
   "source": [
    "data.iloc[143497].parent_comment"
   ]
  },
  {
   "cell_type": "code",
   "execution_count": 12,
   "id": "3abd8509",
   "metadata": {},
   "outputs": [
    {
     "data": {
      "text/plain": [
       "\"That's exactly what a country who made up a hoax about climate change would say!\""
      ]
     },
     "execution_count": 12,
     "metadata": {},
     "output_type": "execute_result"
    }
   ],
   "source": [
    "data.iloc[143497].comment\n",
    "\n",
    "# most scored reddit comment is a sarcasm :)"
   ]
  },
  {
   "cell_type": "code",
   "execution_count": 13,
   "id": "78c560c8",
   "metadata": {},
   "outputs": [
    {
     "data": {
      "text/html": [
       "<div>\n",
       "<style scoped>\n",
       "    .dataframe tbody tr th:only-of-type {\n",
       "        vertical-align: middle;\n",
       "    }\n",
       "\n",
       "    .dataframe tbody tr th {\n",
       "        vertical-align: top;\n",
       "    }\n",
       "\n",
       "    .dataframe thead th {\n",
       "        text-align: right;\n",
       "    }\n",
       "</style>\n",
       "<table border=\"1\" class=\"dataframe\">\n",
       "  <thead>\n",
       "    <tr style=\"text-align: right;\">\n",
       "      <th></th>\n",
       "      <th>label</th>\n",
       "      <th>comment</th>\n",
       "      <th>subreddit</th>\n",
       "      <th>score</th>\n",
       "      <th>parent_comment</th>\n",
       "    </tr>\n",
       "  </thead>\n",
       "  <tbody>\n",
       "    <tr>\n",
       "      <th>143497</th>\n",
       "      <td>1</td>\n",
       "      <td>That's exactly what a country who made up a ho...</td>\n",
       "      <td>worldnews</td>\n",
       "      <td>9070</td>\n",
       "      <td>China Tells Trump That Climate Change Is No Ho...</td>\n",
       "    </tr>\n",
       "    <tr>\n",
       "      <th>143582</th>\n",
       "      <td>1</td>\n",
       "      <td>Sounds exactly like someone who invented Clima...</td>\n",
       "      <td>worldnews</td>\n",
       "      <td>0</td>\n",
       "      <td>China Tells Trump That Climate Change Is No Ho...</td>\n",
       "    </tr>\n",
       "    <tr>\n",
       "      <th>155212</th>\n",
       "      <td>1</td>\n",
       "      <td>Sounds like something they would say if they h...</td>\n",
       "      <td>worldnews</td>\n",
       "      <td>1</td>\n",
       "      <td>China Tells Trump That Climate Change Is No Ho...</td>\n",
       "    </tr>\n",
       "    <tr>\n",
       "      <th>166690</th>\n",
       "      <td>1</td>\n",
       "      <td>Yeah but of course that's what they'd say!</td>\n",
       "      <td>worldnews</td>\n",
       "      <td>0</td>\n",
       "      <td>China Tells Trump That Climate Change Is No Ho...</td>\n",
       "    </tr>\n",
       "    <tr>\n",
       "      <th>174383</th>\n",
       "      <td>0</td>\n",
       "      <td>It's a dark day when China has the moral high ...</td>\n",
       "      <td>politics</td>\n",
       "      <td>38</td>\n",
       "      <td>China Tells Trump That Climate Change Is No Ho...</td>\n",
       "    </tr>\n",
       "  </tbody>\n",
       "</table>\n",
       "</div>"
      ],
      "text/plain": [
       "        label                                            comment  subreddit  \\\n",
       "143497      1  That's exactly what a country who made up a ho...  worldnews   \n",
       "143582      1  Sounds exactly like someone who invented Clima...  worldnews   \n",
       "155212      1  Sounds like something they would say if they h...  worldnews   \n",
       "166690      1         Yeah but of course that's what they'd say!  worldnews   \n",
       "174383      0  It's a dark day when China has the moral high ...   politics   \n",
       "\n",
       "        score                                     parent_comment  \n",
       "143497   9070  China Tells Trump That Climate Change Is No Ho...  \n",
       "143582      0  China Tells Trump That Climate Change Is No Ho...  \n",
       "155212      1  China Tells Trump That Climate Change Is No Ho...  \n",
       "166690      0  China Tells Trump That Climate Change Is No Ho...  \n",
       "174383     38  China Tells Trump That Climate Change Is No Ho...  "
      ]
     },
     "execution_count": 13,
     "metadata": {},
     "output_type": "execute_result"
    }
   ],
   "source": [
    "data[data['parent_comment'] == 'China Tells Trump That Climate Change Is No Hoax It Invented'].tail(5)"
   ]
  },
  {
   "cell_type": "markdown",
   "id": "d9d0b995",
   "metadata": {},
   "source": [
    "### Least scored comment"
   ]
  },
  {
   "cell_type": "code",
   "execution_count": 14,
   "id": "454cd45c",
   "metadata": {
    "scrolled": true
   },
   "outputs": [
    {
     "data": {
      "text/html": [
       "<div>\n",
       "<style scoped>\n",
       "    .dataframe tbody tr th:only-of-type {\n",
       "        vertical-align: middle;\n",
       "    }\n",
       "\n",
       "    .dataframe tbody tr th {\n",
       "        vertical-align: top;\n",
       "    }\n",
       "\n",
       "    .dataframe thead th {\n",
       "        text-align: right;\n",
       "    }\n",
       "</style>\n",
       "<table border=\"1\" class=\"dataframe\">\n",
       "  <thead>\n",
       "    <tr style=\"text-align: right;\">\n",
       "      <th></th>\n",
       "      <th>label</th>\n",
       "      <th>comment</th>\n",
       "      <th>subreddit</th>\n",
       "      <th>score</th>\n",
       "      <th>parent_comment</th>\n",
       "    </tr>\n",
       "  </thead>\n",
       "  <tbody>\n",
       "    <tr>\n",
       "      <th>305117</th>\n",
       "      <td>1</td>\n",
       "      <td>yes...the smiling is irrelevant when trying to...</td>\n",
       "      <td>aww</td>\n",
       "      <td>-507</td>\n",
       "      <td>She did the happy dance! Thats how you know sh...</td>\n",
       "    </tr>\n",
       "  </tbody>\n",
       "</table>\n",
       "</div>"
      ],
      "text/plain": [
       "        label                                            comment subreddit  \\\n",
       "305117      1  yes...the smiling is irrelevant when trying to...       aww   \n",
       "\n",
       "        score                                     parent_comment  \n",
       "305117   -507  She did the happy dance! Thats how you know sh...  "
      ]
     },
     "execution_count": 14,
     "metadata": {},
     "output_type": "execute_result"
    }
   ],
   "source": [
    "data[data.score == data.score.min()]"
   ]
  },
  {
   "cell_type": "code",
   "execution_count": 15,
   "id": "1f1a6f87",
   "metadata": {
    "scrolled": true
   },
   "outputs": [
    {
     "data": {
      "text/plain": [
       "'She did the happy dance! Thats how you know shes happy :)'"
      ]
     },
     "execution_count": 15,
     "metadata": {},
     "output_type": "execute_result"
    }
   ],
   "source": [
    "data.iloc[305117].parent_comment"
   ]
  },
  {
   "cell_type": "code",
   "execution_count": 16,
   "id": "1241284d",
   "metadata": {},
   "outputs": [
    {
     "data": {
      "text/plain": [
       "'yes...the smiling is irrelevant when trying to tell if she is happy'"
      ]
     },
     "execution_count": 16,
     "metadata": {},
     "output_type": "execute_result"
    }
   ],
   "source": [
    "data.iloc[305117].comment\n",
    "\n",
    "# least scored is a sarcasm, too :))"
   ]
  },
  {
   "cell_type": "markdown",
   "id": "478ef958",
   "metadata": {},
   "source": [
    "### Cleaning the dataframe"
   ]
  },
  {
   "cell_type": "code",
   "execution_count": 17,
   "id": "e20de6a8",
   "metadata": {},
   "outputs": [
    {
     "data": {
      "text/html": [
       "<div>\n",
       "<style scoped>\n",
       "    .dataframe tbody tr th:only-of-type {\n",
       "        vertical-align: middle;\n",
       "    }\n",
       "\n",
       "    .dataframe tbody tr th {\n",
       "        vertical-align: top;\n",
       "    }\n",
       "\n",
       "    .dataframe thead th {\n",
       "        text-align: right;\n",
       "    }\n",
       "</style>\n",
       "<table border=\"1\" class=\"dataframe\">\n",
       "  <thead>\n",
       "    <tr style=\"text-align: right;\">\n",
       "      <th></th>\n",
       "      <th>label</th>\n",
       "      <th>comment</th>\n",
       "      <th>subreddit</th>\n",
       "      <th>score</th>\n",
       "      <th>parent_comment</th>\n",
       "    </tr>\n",
       "  </thead>\n",
       "  <tbody>\n",
       "    <tr>\n",
       "      <th>0</th>\n",
       "      <td>0</td>\n",
       "      <td>NC and NH.</td>\n",
       "      <td>politics</td>\n",
       "      <td>2</td>\n",
       "      <td>Yeah, I get that argument. At this point, I'd ...</td>\n",
       "    </tr>\n",
       "    <tr>\n",
       "      <th>1</th>\n",
       "      <td>0</td>\n",
       "      <td>You do know west teams play against west teams...</td>\n",
       "      <td>nba</td>\n",
       "      <td>-4</td>\n",
       "      <td>The blazers and Mavericks (The wests 5 and 6 s...</td>\n",
       "    </tr>\n",
       "    <tr>\n",
       "      <th>2</th>\n",
       "      <td>0</td>\n",
       "      <td>They were underdogs earlier today, but since G...</td>\n",
       "      <td>nfl</td>\n",
       "      <td>3</td>\n",
       "      <td>They're favored to win.</td>\n",
       "    </tr>\n",
       "  </tbody>\n",
       "</table>\n",
       "</div>"
      ],
      "text/plain": [
       "   label                                            comment subreddit  score  \\\n",
       "0      0                                         NC and NH.  politics      2   \n",
       "1      0  You do know west teams play against west teams...       nba     -4   \n",
       "2      0  They were underdogs earlier today, but since G...       nfl      3   \n",
       "\n",
       "                                      parent_comment  \n",
       "0  Yeah, I get that argument. At this point, I'd ...  \n",
       "1  The blazers and Mavericks (The wests 5 and 6 s...  \n",
       "2                            They're favored to win.  "
      ]
     },
     "execution_count": 17,
     "metadata": {},
     "output_type": "execute_result"
    }
   ],
   "source": [
    "columns = ['label', 'comment', 'subreddit', 'score', 'parent_comment']\n",
    "\n",
    "data_clean = data[columns]\n",
    "data_clean.head(3)"
   ]
  },
  {
   "cell_type": "code",
   "execution_count": 18,
   "id": "3dfe65b4",
   "metadata": {},
   "outputs": [
    {
     "name": "stdout",
     "output_type": "stream",
     "text": [
      "label -  0.0%\n",
      "comment -  0.0%\n",
      "subreddit -  0.0%\n",
      "score -  0.0%\n",
      "parent_comment -  0.0%\n"
     ]
    }
   ],
   "source": [
    "# Percentage of missing values per column\n",
    "for col in data_clean.columns:\n",
    "    pct_missing = data_clean[col].isnull().sum()\n",
    "    print(f'{col} - {pct_missing/len(data_clean[col]): .1%}')"
   ]
  },
  {
   "cell_type": "markdown",
   "id": "3a33933d",
   "metadata": {},
   "source": [
    "### Data Visualisation"
   ]
  },
  {
   "cell_type": "code",
   "execution_count": 19,
   "id": "9d8e7f08",
   "metadata": {},
   "outputs": [
    {
     "data": {
      "text/plain": [
       "<matplotlib.legend.Legend at 0x1310295e160>"
      ]
     },
     "execution_count": 19,
     "metadata": {},
     "output_type": "execute_result"
    },
    {
     "data": {
      "image/png": "[encoded data removed]",
      "text/plain": [
       "<Figure size 864x576 with 1 Axes>"
      ]
     },
     "metadata": {
      "needs_background": "light"
     },
     "output_type": "display_data"
    }
   ],
   "source": [
    "import matplotlib.pyplot as plt\n",
    "\n",
    "plt.figure(figsize=(12, 8))\n",
    "data_clean.loc[data_clean.label==1, 'comment'].str.len().apply(np.log1p).hist(label='Sarcasm', alpha=0.7, color='blue')\n",
    "data_clean.loc[data_clean.label==0, 'comment'].str.len().apply(np.log1p).hist(label='Normal', alpha=0.5, color='orange')\n",
    "plt.title('Log of lengths of words for classes')\n",
    "plt.legend()"
   ]
  },
  {
   "cell_type": "markdown",
   "id": "166b915a",
   "metadata": {},
   "source": [
    "### Analysis of subreddits"
   ]
  },
  {
   "cell_type": "code",
   "execution_count": 20,
   "id": "770925bf",
   "metadata": {},
   "outputs": [
    {
     "data": {
      "text/html": [
       "<div>\n",
       "<style scoped>\n",
       "    .dataframe tbody tr th:only-of-type {\n",
       "        vertical-align: middle;\n",
       "    }\n",
       "\n",
       "    .dataframe tbody tr th {\n",
       "        vertical-align: top;\n",
       "    }\n",
       "\n",
       "    .dataframe thead th {\n",
       "        text-align: right;\n",
       "    }\n",
       "</style>\n",
       "<table border=\"1\" class=\"dataframe\">\n",
       "  <thead>\n",
       "    <tr style=\"text-align: right;\">\n",
       "      <th></th>\n",
       "      <th>count</th>\n",
       "      <th>sum</th>\n",
       "      <th>mean</th>\n",
       "    </tr>\n",
       "    <tr>\n",
       "      <th>subreddit</th>\n",
       "      <th></th>\n",
       "      <th></th>\n",
       "      <th></th>\n",
       "    </tr>\n",
       "  </thead>\n",
       "  <tbody>\n",
       "    <tr>\n",
       "      <th>creepyPMs</th>\n",
       "      <td>5466</td>\n",
       "      <td>4287</td>\n",
       "      <td>0.784303</td>\n",
       "    </tr>\n",
       "    <tr>\n",
       "      <th>MensRights</th>\n",
       "      <td>3356</td>\n",
       "      <td>2285</td>\n",
       "      <td>0.680870</td>\n",
       "    </tr>\n",
       "    <tr>\n",
       "      <th>worldnews</th>\n",
       "      <td>26377</td>\n",
       "      <td>16948</td>\n",
       "      <td>0.642529</td>\n",
       "    </tr>\n",
       "    <tr>\n",
       "      <th>atheism</th>\n",
       "      <td>7377</td>\n",
       "      <td>4718</td>\n",
       "      <td>0.639555</td>\n",
       "    </tr>\n",
       "    <tr>\n",
       "      <th>TumblrInAction</th>\n",
       "      <td>7516</td>\n",
       "      <td>4583</td>\n",
       "      <td>0.609766</td>\n",
       "    </tr>\n",
       "    <tr>\n",
       "      <th>politics</th>\n",
       "      <td>39496</td>\n",
       "      <td>23910</td>\n",
       "      <td>0.605378</td>\n",
       "    </tr>\n",
       "    <tr>\n",
       "      <th>news</th>\n",
       "      <td>16891</td>\n",
       "      <td>10193</td>\n",
       "      <td>0.603457</td>\n",
       "    </tr>\n",
       "    <tr>\n",
       "      <th>technology</th>\n",
       "      <td>5693</td>\n",
       "      <td>3416</td>\n",
       "      <td>0.600035</td>\n",
       "    </tr>\n",
       "    <tr>\n",
       "      <th>europe</th>\n",
       "      <td>4401</td>\n",
       "      <td>2626</td>\n",
       "      <td>0.596683</td>\n",
       "    </tr>\n",
       "    <tr>\n",
       "      <th>australia</th>\n",
       "      <td>4495</td>\n",
       "      <td>2681</td>\n",
       "      <td>0.596440</td>\n",
       "    </tr>\n",
       "    <tr>\n",
       "      <th>canada</th>\n",
       "      <td>3993</td>\n",
       "      <td>2373</td>\n",
       "      <td>0.594290</td>\n",
       "    </tr>\n",
       "    <tr>\n",
       "      <th>conspiracy</th>\n",
       "      <td>3160</td>\n",
       "      <td>1865</td>\n",
       "      <td>0.590190</td>\n",
       "    </tr>\n",
       "    <tr>\n",
       "      <th>KotakuInAction</th>\n",
       "      <td>3178</td>\n",
       "      <td>1809</td>\n",
       "      <td>0.569226</td>\n",
       "    </tr>\n",
       "    <tr>\n",
       "      <th>pcmasterrace</th>\n",
       "      <td>18988</td>\n",
       "      <td>10760</td>\n",
       "      <td>0.566674</td>\n",
       "    </tr>\n",
       "    <tr>\n",
       "      <th>AdviceAnimals</th>\n",
       "      <td>13483</td>\n",
       "      <td>7562</td>\n",
       "      <td>0.560854</td>\n",
       "    </tr>\n",
       "    <tr>\n",
       "      <th>GlobalOffensive</th>\n",
       "      <td>13740</td>\n",
       "      <td>7586</td>\n",
       "      <td>0.552111</td>\n",
       "    </tr>\n",
       "    <tr>\n",
       "      <th>soccer</th>\n",
       "      <td>8458</td>\n",
       "      <td>4633</td>\n",
       "      <td>0.547765</td>\n",
       "    </tr>\n",
       "    <tr>\n",
       "      <th>todayilearned</th>\n",
       "      <td>14161</td>\n",
       "      <td>7754</td>\n",
       "      <td>0.547560</td>\n",
       "    </tr>\n",
       "    <tr>\n",
       "      <th>india</th>\n",
       "      <td>5299</td>\n",
       "      <td>2897</td>\n",
       "      <td>0.546707</td>\n",
       "    </tr>\n",
       "    <tr>\n",
       "      <th>leagueoflegends</th>\n",
       "      <td>21037</td>\n",
       "      <td>11409</td>\n",
       "      <td>0.542330</td>\n",
       "    </tr>\n",
       "    <tr>\n",
       "      <th>Smite</th>\n",
       "      <td>3409</td>\n",
       "      <td>1815</td>\n",
       "      <td>0.532414</td>\n",
       "    </tr>\n",
       "    <tr>\n",
       "      <th>fivenightsatfreddys</th>\n",
       "      <td>3461</td>\n",
       "      <td>1836</td>\n",
       "      <td>0.530483</td>\n",
       "    </tr>\n",
       "    <tr>\n",
       "      <th>hockey</th>\n",
       "      <td>8784</td>\n",
       "      <td>4639</td>\n",
       "      <td>0.528119</td>\n",
       "    </tr>\n",
       "    <tr>\n",
       "      <th>nba</th>\n",
       "      <td>14146</td>\n",
       "      <td>7448</td>\n",
       "      <td>0.526509</td>\n",
       "    </tr>\n",
       "    <tr>\n",
       "      <th>DestinyTheGame</th>\n",
       "      <td>5031</td>\n",
       "      <td>2646</td>\n",
       "      <td>0.525939</td>\n",
       "    </tr>\n",
       "    <tr>\n",
       "      <th>hearthstone</th>\n",
       "      <td>4436</td>\n",
       "      <td>2324</td>\n",
       "      <td>0.523895</td>\n",
       "    </tr>\n",
       "    <tr>\n",
       "      <th>MMA</th>\n",
       "      <td>3621</td>\n",
       "      <td>1885</td>\n",
       "      <td>0.520574</td>\n",
       "    </tr>\n",
       "    <tr>\n",
       "      <th>2007scape</th>\n",
       "      <td>3148</td>\n",
       "      <td>1625</td>\n",
       "      <td>0.516201</td>\n",
       "    </tr>\n",
       "    <tr>\n",
       "      <th>CFB</th>\n",
       "      <td>7048</td>\n",
       "      <td>3617</td>\n",
       "      <td>0.513195</td>\n",
       "    </tr>\n",
       "    <tr>\n",
       "      <th>Android</th>\n",
       "      <td>3568</td>\n",
       "      <td>1828</td>\n",
       "      <td>0.512332</td>\n",
       "    </tr>\n",
       "    <tr>\n",
       "      <th>nfl</th>\n",
       "      <td>14150</td>\n",
       "      <td>7215</td>\n",
       "      <td>0.509894</td>\n",
       "    </tr>\n",
       "    <tr>\n",
       "      <th>baseball</th>\n",
       "      <td>3626</td>\n",
       "      <td>1811</td>\n",
       "      <td>0.499448</td>\n",
       "    </tr>\n",
       "    <tr>\n",
       "      <th>SquaredCircle</th>\n",
       "      <td>4885</td>\n",
       "      <td>2428</td>\n",
       "      <td>0.497032</td>\n",
       "    </tr>\n",
       "    <tr>\n",
       "      <th>DotA2</th>\n",
       "      <td>5981</td>\n",
       "      <td>2952</td>\n",
       "      <td>0.493563</td>\n",
       "    </tr>\n",
       "    <tr>\n",
       "      <th>videos</th>\n",
       "      <td>12320</td>\n",
       "      <td>6079</td>\n",
       "      <td>0.493425</td>\n",
       "    </tr>\n",
       "    <tr>\n",
       "      <th>gaming</th>\n",
       "      <td>11906</td>\n",
       "      <td>5818</td>\n",
       "      <td>0.488661</td>\n",
       "    </tr>\n",
       "    <tr>\n",
       "      <th>movies</th>\n",
       "      <td>6550</td>\n",
       "      <td>3174</td>\n",
       "      <td>0.484580</td>\n",
       "    </tr>\n",
       "    <tr>\n",
       "      <th>pics</th>\n",
       "      <td>16154</td>\n",
       "      <td>7825</td>\n",
       "      <td>0.484400</td>\n",
       "    </tr>\n",
       "    <tr>\n",
       "      <th>wow</th>\n",
       "      <td>3674</td>\n",
       "      <td>1701</td>\n",
       "      <td>0.462983</td>\n",
       "    </tr>\n",
       "    <tr>\n",
       "      <th>The_Donald</th>\n",
       "      <td>9636</td>\n",
       "      <td>4458</td>\n",
       "      <td>0.462640</td>\n",
       "    </tr>\n",
       "    <tr>\n",
       "      <th>Showerthoughts</th>\n",
       "      <td>3906</td>\n",
       "      <td>1803</td>\n",
       "      <td>0.461598</td>\n",
       "    </tr>\n",
       "    <tr>\n",
       "      <th>Overwatch</th>\n",
       "      <td>4161</td>\n",
       "      <td>1911</td>\n",
       "      <td>0.459265</td>\n",
       "    </tr>\n",
       "    <tr>\n",
       "      <th>WTF</th>\n",
       "      <td>9558</td>\n",
       "      <td>4366</td>\n",
       "      <td>0.456790</td>\n",
       "    </tr>\n",
       "    <tr>\n",
       "      <th>funny</th>\n",
       "      <td>17939</td>\n",
       "      <td>8099</td>\n",
       "      <td>0.451474</td>\n",
       "    </tr>\n",
       "    <tr>\n",
       "      <th>gifs</th>\n",
       "      <td>5267</td>\n",
       "      <td>2168</td>\n",
       "      <td>0.411620</td>\n",
       "    </tr>\n",
       "    <tr>\n",
       "      <th>AskReddit</th>\n",
       "      <td>65677</td>\n",
       "      <td>26367</td>\n",
       "      <td>0.401465</td>\n",
       "    </tr>\n",
       "  </tbody>\n",
       "</table>\n",
       "</div>"
      ],
      "text/plain": [
       "                     count    sum      mean\n",
       "subreddit                                  \n",
       "creepyPMs             5466   4287  0.784303\n",
       "MensRights            3356   2285  0.680870\n",
       "worldnews            26377  16948  0.642529\n",
       "atheism               7377   4718  0.639555\n",
       "TumblrInAction        7516   4583  0.609766\n",
       "politics             39496  23910  0.605378\n",
       "news                 16891  10193  0.603457\n",
       "technology            5693   3416  0.600035\n",
       "europe                4401   2626  0.596683\n",
       "australia             4495   2681  0.596440\n",
       "canada                3993   2373  0.594290\n",
       "conspiracy            3160   1865  0.590190\n",
       "KotakuInAction        3178   1809  0.569226\n",
       "pcmasterrace         18988  10760  0.566674\n",
       "AdviceAnimals        13483   7562  0.560854\n",
       "GlobalOffensive      13740   7586  0.552111\n",
       "soccer                8458   4633  0.547765\n",
       "todayilearned        14161   7754  0.547560\n",
       "india                 5299   2897  0.546707\n",
       "leagueoflegends      21037  11409  0.542330\n",
       "Smite                 3409   1815  0.532414\n",
       "fivenightsatfreddys   3461   1836  0.530483\n",
       "hockey                8784   4639  0.528119\n",
       "nba                  14146   7448  0.526509\n",
       "DestinyTheGame        5031   2646  0.525939\n",
       "hearthstone           4436   2324  0.523895\n",
       "MMA                   3621   1885  0.520574\n",
       "2007scape             3148   1625  0.516201\n",
       "CFB                   7048   3617  0.513195\n",
       "Android               3568   1828  0.512332\n",
       "nfl                  14150   7215  0.509894\n",
       "baseball              3626   1811  0.499448\n",
       "SquaredCircle         4885   2428  0.497032\n",
       "DotA2                 5981   2952  0.493563\n",
       "videos               12320   6079  0.493425\n",
       "gaming               11906   5818  0.488661\n",
       "movies                6550   3174  0.484580\n",
       "pics                 16154   7825  0.484400\n",
       "wow                   3674   1701  0.462983\n",
       "The_Donald            9636   4458  0.462640\n",
       "Showerthoughts        3906   1803  0.461598\n",
       "Overwatch             4161   1911  0.459265\n",
       "WTF                   9558   4366  0.456790\n",
       "funny                17939   8099  0.451474\n",
       "gifs                  5267   2168  0.411620\n",
       "AskReddit            65677  26367  0.401465"
      ]
     },
     "execution_count": 20,
     "metadata": {},
     "output_type": "execute_result"
    }
   ],
   "source": [
    "subreddit = data_clean.groupby('subreddit')['label'].agg(\n",
    "    ['count', 'sum', 'mean']).sort_values(by='count', ascending=False\n",
    ")\n",
    "subreddit = subreddit[subreddit['count'] > 3000]\n",
    "subreddit.sort_values(by='mean', ascending=False)"
   ]
  },
  {
   "cell_type": "code",
   "execution_count": 21,
   "id": "b8596c52",
   "metadata": {},
   "outputs": [
    {
     "data": {
      "text/html": [
       "<div>\n",
       "<style scoped>\n",
       "    .dataframe tbody tr th:only-of-type {\n",
       "        vertical-align: middle;\n",
       "    }\n",
       "\n",
       "    .dataframe tbody tr th {\n",
       "        vertical-align: top;\n",
       "    }\n",
       "\n",
       "    .dataframe thead th {\n",
       "        text-align: right;\n",
       "    }\n",
       "</style>\n",
       "<table border=\"1\" class=\"dataframe\">\n",
       "  <thead>\n",
       "    <tr style=\"text-align: right;\">\n",
       "      <th></th>\n",
       "      <th>count</th>\n",
       "      <th>sum</th>\n",
       "      <th>mean</th>\n",
       "    </tr>\n",
       "    <tr>\n",
       "      <th>subreddit</th>\n",
       "      <th></th>\n",
       "      <th></th>\n",
       "      <th></th>\n",
       "    </tr>\n",
       "  </thead>\n",
       "  <tbody>\n",
       "    <tr>\n",
       "      <th>AskReddit</th>\n",
       "      <td>65677</td>\n",
       "      <td>26367</td>\n",
       "      <td>0.401465</td>\n",
       "    </tr>\n",
       "    <tr>\n",
       "      <th>gifs</th>\n",
       "      <td>5267</td>\n",
       "      <td>2168</td>\n",
       "      <td>0.411620</td>\n",
       "    </tr>\n",
       "    <tr>\n",
       "      <th>funny</th>\n",
       "      <td>17939</td>\n",
       "      <td>8099</td>\n",
       "      <td>0.451474</td>\n",
       "    </tr>\n",
       "    <tr>\n",
       "      <th>WTF</th>\n",
       "      <td>9558</td>\n",
       "      <td>4366</td>\n",
       "      <td>0.456790</td>\n",
       "    </tr>\n",
       "    <tr>\n",
       "      <th>Overwatch</th>\n",
       "      <td>4161</td>\n",
       "      <td>1911</td>\n",
       "      <td>0.459265</td>\n",
       "    </tr>\n",
       "    <tr>\n",
       "      <th>Showerthoughts</th>\n",
       "      <td>3906</td>\n",
       "      <td>1803</td>\n",
       "      <td>0.461598</td>\n",
       "    </tr>\n",
       "    <tr>\n",
       "      <th>The_Donald</th>\n",
       "      <td>9636</td>\n",
       "      <td>4458</td>\n",
       "      <td>0.462640</td>\n",
       "    </tr>\n",
       "    <tr>\n",
       "      <th>wow</th>\n",
       "      <td>3674</td>\n",
       "      <td>1701</td>\n",
       "      <td>0.462983</td>\n",
       "    </tr>\n",
       "    <tr>\n",
       "      <th>pics</th>\n",
       "      <td>16154</td>\n",
       "      <td>7825</td>\n",
       "      <td>0.484400</td>\n",
       "    </tr>\n",
       "    <tr>\n",
       "      <th>movies</th>\n",
       "      <td>6550</td>\n",
       "      <td>3174</td>\n",
       "      <td>0.484580</td>\n",
       "    </tr>\n",
       "    <tr>\n",
       "      <th>gaming</th>\n",
       "      <td>11906</td>\n",
       "      <td>5818</td>\n",
       "      <td>0.488661</td>\n",
       "    </tr>\n",
       "    <tr>\n",
       "      <th>videos</th>\n",
       "      <td>12320</td>\n",
       "      <td>6079</td>\n",
       "      <td>0.493425</td>\n",
       "    </tr>\n",
       "    <tr>\n",
       "      <th>DotA2</th>\n",
       "      <td>5981</td>\n",
       "      <td>2952</td>\n",
       "      <td>0.493563</td>\n",
       "    </tr>\n",
       "    <tr>\n",
       "      <th>SquaredCircle</th>\n",
       "      <td>4885</td>\n",
       "      <td>2428</td>\n",
       "      <td>0.497032</td>\n",
       "    </tr>\n",
       "    <tr>\n",
       "      <th>baseball</th>\n",
       "      <td>3626</td>\n",
       "      <td>1811</td>\n",
       "      <td>0.499448</td>\n",
       "    </tr>\n",
       "    <tr>\n",
       "      <th>nfl</th>\n",
       "      <td>14150</td>\n",
       "      <td>7215</td>\n",
       "      <td>0.509894</td>\n",
       "    </tr>\n",
       "    <tr>\n",
       "      <th>Android</th>\n",
       "      <td>3568</td>\n",
       "      <td>1828</td>\n",
       "      <td>0.512332</td>\n",
       "    </tr>\n",
       "    <tr>\n",
       "      <th>CFB</th>\n",
       "      <td>7048</td>\n",
       "      <td>3617</td>\n",
       "      <td>0.513195</td>\n",
       "    </tr>\n",
       "    <tr>\n",
       "      <th>2007scape</th>\n",
       "      <td>3148</td>\n",
       "      <td>1625</td>\n",
       "      <td>0.516201</td>\n",
       "    </tr>\n",
       "    <tr>\n",
       "      <th>MMA</th>\n",
       "      <td>3621</td>\n",
       "      <td>1885</td>\n",
       "      <td>0.520574</td>\n",
       "    </tr>\n",
       "    <tr>\n",
       "      <th>hearthstone</th>\n",
       "      <td>4436</td>\n",
       "      <td>2324</td>\n",
       "      <td>0.523895</td>\n",
       "    </tr>\n",
       "    <tr>\n",
       "      <th>DestinyTheGame</th>\n",
       "      <td>5031</td>\n",
       "      <td>2646</td>\n",
       "      <td>0.525939</td>\n",
       "    </tr>\n",
       "    <tr>\n",
       "      <th>nba</th>\n",
       "      <td>14146</td>\n",
       "      <td>7448</td>\n",
       "      <td>0.526509</td>\n",
       "    </tr>\n",
       "    <tr>\n",
       "      <th>hockey</th>\n",
       "      <td>8784</td>\n",
       "      <td>4639</td>\n",
       "      <td>0.528119</td>\n",
       "    </tr>\n",
       "    <tr>\n",
       "      <th>fivenightsatfreddys</th>\n",
       "      <td>3461</td>\n",
       "      <td>1836</td>\n",
       "      <td>0.530483</td>\n",
       "    </tr>\n",
       "    <tr>\n",
       "      <th>Smite</th>\n",
       "      <td>3409</td>\n",
       "      <td>1815</td>\n",
       "      <td>0.532414</td>\n",
       "    </tr>\n",
       "    <tr>\n",
       "      <th>leagueoflegends</th>\n",
       "      <td>21037</td>\n",
       "      <td>11409</td>\n",
       "      <td>0.542330</td>\n",
       "    </tr>\n",
       "    <tr>\n",
       "      <th>india</th>\n",
       "      <td>5299</td>\n",
       "      <td>2897</td>\n",
       "      <td>0.546707</td>\n",
       "    </tr>\n",
       "    <tr>\n",
       "      <th>todayilearned</th>\n",
       "      <td>14161</td>\n",
       "      <td>7754</td>\n",
       "      <td>0.547560</td>\n",
       "    </tr>\n",
       "    <tr>\n",
       "      <th>soccer</th>\n",
       "      <td>8458</td>\n",
       "      <td>4633</td>\n",
       "      <td>0.547765</td>\n",
       "    </tr>\n",
       "    <tr>\n",
       "      <th>GlobalOffensive</th>\n",
       "      <td>13740</td>\n",
       "      <td>7586</td>\n",
       "      <td>0.552111</td>\n",
       "    </tr>\n",
       "    <tr>\n",
       "      <th>AdviceAnimals</th>\n",
       "      <td>13483</td>\n",
       "      <td>7562</td>\n",
       "      <td>0.560854</td>\n",
       "    </tr>\n",
       "    <tr>\n",
       "      <th>pcmasterrace</th>\n",
       "      <td>18988</td>\n",
       "      <td>10760</td>\n",
       "      <td>0.566674</td>\n",
       "    </tr>\n",
       "    <tr>\n",
       "      <th>KotakuInAction</th>\n",
       "      <td>3178</td>\n",
       "      <td>1809</td>\n",
       "      <td>0.569226</td>\n",
       "    </tr>\n",
       "    <tr>\n",
       "      <th>conspiracy</th>\n",
       "      <td>3160</td>\n",
       "      <td>1865</td>\n",
       "      <td>0.590190</td>\n",
       "    </tr>\n",
       "    <tr>\n",
       "      <th>canada</th>\n",
       "      <td>3993</td>\n",
       "      <td>2373</td>\n",
       "      <td>0.594290</td>\n",
       "    </tr>\n",
       "    <tr>\n",
       "      <th>australia</th>\n",
       "      <td>4495</td>\n",
       "      <td>2681</td>\n",
       "      <td>0.596440</td>\n",
       "    </tr>\n",
       "    <tr>\n",
       "      <th>europe</th>\n",
       "      <td>4401</td>\n",
       "      <td>2626</td>\n",
       "      <td>0.596683</td>\n",
       "    </tr>\n",
       "    <tr>\n",
       "      <th>technology</th>\n",
       "      <td>5693</td>\n",
       "      <td>3416</td>\n",
       "      <td>0.600035</td>\n",
       "    </tr>\n",
       "    <tr>\n",
       "      <th>news</th>\n",
       "      <td>16891</td>\n",
       "      <td>10193</td>\n",
       "      <td>0.603457</td>\n",
       "    </tr>\n",
       "    <tr>\n",
       "      <th>politics</th>\n",
       "      <td>39496</td>\n",
       "      <td>23910</td>\n",
       "      <td>0.605378</td>\n",
       "    </tr>\n",
       "    <tr>\n",
       "      <th>TumblrInAction</th>\n",
       "      <td>7516</td>\n",
       "      <td>4583</td>\n",
       "      <td>0.609766</td>\n",
       "    </tr>\n",
       "    <tr>\n",
       "      <th>atheism</th>\n",
       "      <td>7377</td>\n",
       "      <td>4718</td>\n",
       "      <td>0.639555</td>\n",
       "    </tr>\n",
       "    <tr>\n",
       "      <th>worldnews</th>\n",
       "      <td>26377</td>\n",
       "      <td>16948</td>\n",
       "      <td>0.642529</td>\n",
       "    </tr>\n",
       "    <tr>\n",
       "      <th>MensRights</th>\n",
       "      <td>3356</td>\n",
       "      <td>2285</td>\n",
       "      <td>0.680870</td>\n",
       "    </tr>\n",
       "    <tr>\n",
       "      <th>creepyPMs</th>\n",
       "      <td>5466</td>\n",
       "      <td>4287</td>\n",
       "      <td>0.784303</td>\n",
       "    </tr>\n",
       "  </tbody>\n",
       "</table>\n",
       "</div>"
      ],
      "text/plain": [
       "                     count    sum      mean\n",
       "subreddit                                  \n",
       "AskReddit            65677  26367  0.401465\n",
       "gifs                  5267   2168  0.411620\n",
       "funny                17939   8099  0.451474\n",
       "WTF                   9558   4366  0.456790\n",
       "Overwatch             4161   1911  0.459265\n",
       "Showerthoughts        3906   1803  0.461598\n",
       "The_Donald            9636   4458  0.462640\n",
       "wow                   3674   1701  0.462983\n",
       "pics                 16154   7825  0.484400\n",
       "movies                6550   3174  0.484580\n",
       "gaming               11906   5818  0.488661\n",
       "videos               12320   6079  0.493425\n",
       "DotA2                 5981   2952  0.493563\n",
       "SquaredCircle         4885   2428  0.497032\n",
       "baseball              3626   1811  0.499448\n",
       "nfl                  14150   7215  0.509894\n",
       "Android               3568   1828  0.512332\n",
       "CFB                   7048   3617  0.513195\n",
       "2007scape             3148   1625  0.516201\n",
       "MMA                   3621   1885  0.520574\n",
       "hearthstone           4436   2324  0.523895\n",
       "DestinyTheGame        5031   2646  0.525939\n",
       "nba                  14146   7448  0.526509\n",
       "hockey                8784   4639  0.528119\n",
       "fivenightsatfreddys   3461   1836  0.530483\n",
       "Smite                 3409   1815  0.532414\n",
       "leagueoflegends      21037  11409  0.542330\n",
       "india                 5299   2897  0.546707\n",
       "todayilearned        14161   7754  0.547560\n",
       "soccer                8458   4633  0.547765\n",
       "GlobalOffensive      13740   7586  0.552111\n",
       "AdviceAnimals        13483   7562  0.560854\n",
       "pcmasterrace         18988  10760  0.566674\n",
       "KotakuInAction        3178   1809  0.569226\n",
       "conspiracy            3160   1865  0.590190\n",
       "canada                3993   2373  0.594290\n",
       "australia             4495   2681  0.596440\n",
       "europe                4401   2626  0.596683\n",
       "technology            5693   3416  0.600035\n",
       "news                 16891  10193  0.603457\n",
       "politics             39496  23910  0.605378\n",
       "TumblrInAction        7516   4583  0.609766\n",
       "atheism               7377   4718  0.639555\n",
       "worldnews            26377  16948  0.642529\n",
       "MensRights            3356   2285  0.680870\n",
       "creepyPMs             5466   4287  0.784303"
      ]
     },
     "execution_count": 21,
     "metadata": {},
     "output_type": "execute_result"
    }
   ],
   "source": [
    "subreddit.sort_values(by='mean', ascending=True)"
   ]
  },
  {
   "cell_type": "code",
   "execution_count": 22,
   "id": "8e7a27c3",
   "metadata": {},
   "outputs": [
    {
     "data": {
      "text/plain": [
       "(46, 3)"
      ]
     },
     "execution_count": 22,
     "metadata": {},
     "output_type": "execute_result"
    }
   ],
   "source": [
    "subreddit.shape"
   ]
  },
  {
   "cell_type": "markdown",
   "id": "94593b86",
   "metadata": {},
   "source": [
    "Those with higher mean contain more sarcasm commentaries. These are 'worldnews', 'news', 'politics', 'pcmasterrace'"
   ]
  },
  {
   "cell_type": "code",
   "execution_count": 23,
   "id": "de472fd2",
   "metadata": {},
   "outputs": [
    {
     "data": {
      "text/html": [
       "<div>\n",
       "<style scoped>\n",
       "    .dataframe tbody tr th:only-of-type {\n",
       "        vertical-align: middle;\n",
       "    }\n",
       "\n",
       "    .dataframe tbody tr th {\n",
       "        vertical-align: top;\n",
       "    }\n",
       "\n",
       "    .dataframe thead th {\n",
       "        text-align: right;\n",
       "    }\n",
       "</style>\n",
       "<table border=\"1\" class=\"dataframe\">\n",
       "  <thead>\n",
       "    <tr style=\"text-align: right;\">\n",
       "      <th></th>\n",
       "      <th>count</th>\n",
       "      <th>sum</th>\n",
       "      <th>mean</th>\n",
       "    </tr>\n",
       "    <tr>\n",
       "      <th>subreddit</th>\n",
       "      <th></th>\n",
       "      <th></th>\n",
       "      <th></th>\n",
       "    </tr>\n",
       "  </thead>\n",
       "  <tbody>\n",
       "    <tr>\n",
       "      <th>AskReddit</th>\n",
       "      <td>65677</td>\n",
       "      <td>26367</td>\n",
       "      <td>0.401465</td>\n",
       "    </tr>\n",
       "    <tr>\n",
       "      <th>politics</th>\n",
       "      <td>39496</td>\n",
       "      <td>23910</td>\n",
       "      <td>0.605378</td>\n",
       "    </tr>\n",
       "    <tr>\n",
       "      <th>worldnews</th>\n",
       "      <td>26377</td>\n",
       "      <td>16948</td>\n",
       "      <td>0.642529</td>\n",
       "    </tr>\n",
       "    <tr>\n",
       "      <th>leagueoflegends</th>\n",
       "      <td>21037</td>\n",
       "      <td>11409</td>\n",
       "      <td>0.542330</td>\n",
       "    </tr>\n",
       "    <tr>\n",
       "      <th>pcmasterrace</th>\n",
       "      <td>18988</td>\n",
       "      <td>10760</td>\n",
       "      <td>0.566674</td>\n",
       "    </tr>\n",
       "  </tbody>\n",
       "</table>\n",
       "</div>"
      ],
      "text/plain": [
       "                 count    sum      mean\n",
       "subreddit                              \n",
       "AskReddit        65677  26367  0.401465\n",
       "politics         39496  23910  0.605378\n",
       "worldnews        26377  16948  0.642529\n",
       "leagueoflegends  21037  11409  0.542330\n",
       "pcmasterrace     18988  10760  0.566674"
      ]
     },
     "execution_count": 23,
     "metadata": {},
     "output_type": "execute_result"
    }
   ],
   "source": [
    "top_subred = subreddit[subreddit['count'] > 3000]\n",
    "top_subred.head()"
   ]
  },
  {
   "cell_type": "markdown",
   "id": "2cf8f7c7",
   "metadata": {},
   "source": [
    "### Analysis of Scores"
   ]
  },
  {
   "cell_type": "code",
   "execution_count": 24,
   "id": "be89fd12",
   "metadata": {},
   "outputs": [
    {
     "data": {
      "text/html": [
       "<div>\n",
       "<style scoped>\n",
       "    .dataframe tbody tr th:only-of-type {\n",
       "        vertical-align: middle;\n",
       "    }\n",
       "\n",
       "    .dataframe tbody tr th {\n",
       "        vertical-align: top;\n",
       "    }\n",
       "\n",
       "    .dataframe thead th {\n",
       "        text-align: right;\n",
       "    }\n",
       "</style>\n",
       "<table border=\"1\" class=\"dataframe\">\n",
       "  <thead>\n",
       "    <tr style=\"text-align: right;\">\n",
       "      <th></th>\n",
       "      <th>count</th>\n",
       "      <th>sum</th>\n",
       "      <th>mean</th>\n",
       "    </tr>\n",
       "    <tr>\n",
       "      <th>score</th>\n",
       "      <th></th>\n",
       "      <th></th>\n",
       "      <th></th>\n",
       "    </tr>\n",
       "  </thead>\n",
       "  <tbody>\n",
       "    <tr>\n",
       "      <th>60</th>\n",
       "      <td>299</td>\n",
       "      <td>170</td>\n",
       "      <td>0.568562</td>\n",
       "    </tr>\n",
       "    <tr>\n",
       "      <th>20</th>\n",
       "      <td>3096</td>\n",
       "      <td>1738</td>\n",
       "      <td>0.561370</td>\n",
       "    </tr>\n",
       "    <tr>\n",
       "      <th>68</th>\n",
       "      <td>259</td>\n",
       "      <td>145</td>\n",
       "      <td>0.559846</td>\n",
       "    </tr>\n",
       "    <tr>\n",
       "      <th>34</th>\n",
       "      <td>1071</td>\n",
       "      <td>596</td>\n",
       "      <td>0.556489</td>\n",
       "    </tr>\n",
       "    <tr>\n",
       "      <th>103</th>\n",
       "      <td>108</td>\n",
       "      <td>60</td>\n",
       "      <td>0.555556</td>\n",
       "    </tr>\n",
       "  </tbody>\n",
       "</table>\n",
       "</div>"
      ],
      "text/plain": [
       "       count   sum      mean\n",
       "score                       \n",
       "60       299   170  0.568562\n",
       "20      3096  1738  0.561370\n",
       "68       259   145  0.559846\n",
       "34      1071   596  0.556489\n",
       "103      108    60  0.555556"
      ]
     },
     "execution_count": 24,
     "metadata": {},
     "output_type": "execute_result"
    }
   ],
   "source": [
    "scores_pos = data_clean[data_clean['score'] > 0].groupby('score')['label'].agg(\n",
    "    ['count', 'sum', 'mean']).sort_values(['mean', 'sum'], ascending=False\n",
    ")\n",
    "scores_pos = scores_pos[scores_pos['count'] > 100]\n",
    "scores_pos.head(5)"
   ]
  },
  {
   "cell_type": "code",
   "execution_count": 25,
   "id": "8e5f5e7f",
   "metadata": {},
   "outputs": [
    {
     "name": "stdout",
     "output_type": "stream",
     "text": [
      "Sarcasm index is 0.514 for reddits with scores more than 0\n"
     ]
    }
   ],
   "source": [
    "print(f\"Sarcasm index is {scores_pos['mean'].mean().round(3)} for reddits with scores more than 0\")"
   ]
  },
  {
   "cell_type": "code",
   "execution_count": 26,
   "id": "22f313e2",
   "metadata": {},
   "outputs": [
    {
     "name": "stdout",
     "output_type": "stream",
     "text": [
      "Sarcasm index is 0.613 for reddits with scores equal to 0\n"
     ]
    }
   ],
   "source": [
    "scores_zero = data_clean[data_clean['score'] == 0].groupby('score')['label'].agg(\n",
    "    ['count', 'sum', 'mean']).sort_values(['count', 'sum'], ascending=False\n",
    ")\n",
    "print(f\"Sarcasm index is {scores_zero['mean'].mean().round(3)} for reddits with scores equal to 0\")"
   ]
  },
  {
   "cell_type": "code",
   "execution_count": 27,
   "id": "6778e1d0",
   "metadata": {
    "scrolled": true
   },
   "outputs": [
    {
     "data": {
      "text/html": [
       "<div>\n",
       "<style scoped>\n",
       "    .dataframe tbody tr th:only-of-type {\n",
       "        vertical-align: middle;\n",
       "    }\n",
       "\n",
       "    .dataframe tbody tr th {\n",
       "        vertical-align: top;\n",
       "    }\n",
       "\n",
       "    .dataframe thead th {\n",
       "        text-align: right;\n",
       "    }\n",
       "</style>\n",
       "<table border=\"1\" class=\"dataframe\">\n",
       "  <thead>\n",
       "    <tr style=\"text-align: right;\">\n",
       "      <th></th>\n",
       "      <th>count</th>\n",
       "      <th>sum</th>\n",
       "      <th>mean</th>\n",
       "    </tr>\n",
       "    <tr>\n",
       "      <th>score</th>\n",
       "      <th></th>\n",
       "      <th></th>\n",
       "      <th></th>\n",
       "    </tr>\n",
       "  </thead>\n",
       "  <tbody>\n",
       "    <tr>\n",
       "      <th>-1</th>\n",
       "      <td>22810</td>\n",
       "      <td>14984</td>\n",
       "      <td>0.656905</td>\n",
       "    </tr>\n",
       "    <tr>\n",
       "      <th>-2</th>\n",
       "      <td>11925</td>\n",
       "      <td>8061</td>\n",
       "      <td>0.675975</td>\n",
       "    </tr>\n",
       "    <tr>\n",
       "      <th>-3</th>\n",
       "      <td>6738</td>\n",
       "      <td>4555</td>\n",
       "      <td>0.676017</td>\n",
       "    </tr>\n",
       "    <tr>\n",
       "      <th>-4</th>\n",
       "      <td>5436</td>\n",
       "      <td>3661</td>\n",
       "      <td>0.673473</td>\n",
       "    </tr>\n",
       "    <tr>\n",
       "      <th>-5</th>\n",
       "      <td>4134</td>\n",
       "      <td>2805</td>\n",
       "      <td>0.678520</td>\n",
       "    </tr>\n",
       "  </tbody>\n",
       "</table>\n",
       "</div>"
      ],
      "text/plain": [
       "       count    sum      mean\n",
       "score                        \n",
       "-1     22810  14984  0.656905\n",
       "-2     11925   8061  0.675975\n",
       "-3      6738   4555  0.676017\n",
       "-4      5436   3661  0.673473\n",
       "-5      4134   2805  0.678520"
      ]
     },
     "execution_count": 27,
     "metadata": {},
     "output_type": "execute_result"
    }
   ],
   "source": [
    "scores_neg = data_clean[data_clean['score'] < 0].groupby('score')['label'].agg(['count', 'sum', 'mean']).sort_values(['count', 'sum'], ascending=False)\n",
    "scores_neg = scores_neg[scores_neg['count'] > 100]\n",
    "scores_neg.head(5)"
   ]
  },
  {
   "cell_type": "code",
   "execution_count": 28,
   "id": "c00ff70b",
   "metadata": {},
   "outputs": [
    {
     "name": "stdout",
     "output_type": "stream",
     "text": [
      "Sarcasm index is 0.668 for reddits with scores less than 0\n"
     ]
    }
   ],
   "source": [
    "print(f\"Sarcasm index is {scores_neg['mean'].mean().round(3)} for reddits with scores less than 0\")"
   ]
  },
  {
   "cell_type": "markdown",
   "id": "fa22e970",
   "metadata": {},
   "source": [
    "### Data Transformation"
   ]
  },
  {
   "cell_type": "code",
   "execution_count": 29,
   "id": "bbc6aa33",
   "metadata": {},
   "outputs": [
    {
     "data": {
      "text/plain": [
       "['AskReddit', 'politics', 'worldnews', 'leagueoflegends', 'pcmasterrace']"
      ]
     },
     "execution_count": 29,
     "metadata": {},
     "output_type": "execute_result"
    }
   ],
   "source": [
    "data_most_common = data_clean.value_counts('subreddit')\n",
    "subreddit_topic = data_most_common[data_most_common > 1000].index.to_list()\n",
    "subreddit_topic[:5]"
   ]
  },
  {
   "cell_type": "code",
   "execution_count": 30,
   "id": "55e9549f",
   "metadata": {},
   "outputs": [
    {
     "data": {
      "text/html": [
       "<div>\n",
       "<style scoped>\n",
       "    .dataframe tbody tr th:only-of-type {\n",
       "        vertical-align: middle;\n",
       "    }\n",
       "\n",
       "    .dataframe tbody tr th {\n",
       "        vertical-align: top;\n",
       "    }\n",
       "\n",
       "    .dataframe thead th {\n",
       "        text-align: right;\n",
       "    }\n",
       "</style>\n",
       "<table border=\"1\" class=\"dataframe\">\n",
       "  <thead>\n",
       "    <tr style=\"text-align: right;\">\n",
       "      <th></th>\n",
       "      <th>label</th>\n",
       "      <th>comment</th>\n",
       "      <th>subreddit</th>\n",
       "      <th>score</th>\n",
       "      <th>parent_comment</th>\n",
       "    </tr>\n",
       "  </thead>\n",
       "  <tbody>\n",
       "    <tr>\n",
       "      <th>0</th>\n",
       "      <td>0</td>\n",
       "      <td>NC and NH.</td>\n",
       "      <td>politics</td>\n",
       "      <td>2</td>\n",
       "      <td>Yeah, I get that argument. At this point, I'd ...</td>\n",
       "    </tr>\n",
       "    <tr>\n",
       "      <th>1</th>\n",
       "      <td>0</td>\n",
       "      <td>You do know west teams play against west teams...</td>\n",
       "      <td>nba</td>\n",
       "      <td>-4</td>\n",
       "      <td>The blazers and Mavericks (The wests 5 and 6 s...</td>\n",
       "    </tr>\n",
       "    <tr>\n",
       "      <th>2</th>\n",
       "      <td>0</td>\n",
       "      <td>They were underdogs earlier today, but since G...</td>\n",
       "      <td>nfl</td>\n",
       "      <td>3</td>\n",
       "      <td>They're favored to win.</td>\n",
       "    </tr>\n",
       "    <tr>\n",
       "      <th>3</th>\n",
       "      <td>0</td>\n",
       "      <td>This meme isn't funny none of the \"new york ni...</td>\n",
       "      <td>BlackPeopleTwitter</td>\n",
       "      <td>-8</td>\n",
       "      <td>deadass don't kill my buzz</td>\n",
       "    </tr>\n",
       "    <tr>\n",
       "      <th>4</th>\n",
       "      <td>0</td>\n",
       "      <td>I could use one of those tools.</td>\n",
       "      <td>MaddenUltimateTeam</td>\n",
       "      <td>6</td>\n",
       "      <td>Yep can confirm I saw the tool they use for th...</td>\n",
       "    </tr>\n",
       "  </tbody>\n",
       "</table>\n",
       "</div>"
      ],
      "text/plain": [
       "   label                                            comment  \\\n",
       "0      0                                         NC and NH.   \n",
       "1      0  You do know west teams play against west teams...   \n",
       "2      0  They were underdogs earlier today, but since G...   \n",
       "3      0  This meme isn't funny none of the \"new york ni...   \n",
       "4      0                    I could use one of those tools.   \n",
       "\n",
       "            subreddit  score  \\\n",
       "0            politics      2   \n",
       "1                 nba     -4   \n",
       "2                 nfl      3   \n",
       "3  BlackPeopleTwitter     -8   \n",
       "4  MaddenUltimateTeam      6   \n",
       "\n",
       "                                      parent_comment  \n",
       "0  Yeah, I get that argument. At this point, I'd ...  \n",
       "1  The blazers and Mavericks (The wests 5 and 6 s...  \n",
       "2                            They're favored to win.  \n",
       "3                         deadass don't kill my buzz  \n",
       "4  Yep can confirm I saw the tool they use for th...  "
      ]
     },
     "execution_count": 30,
     "metadata": {},
     "output_type": "execute_result"
    }
   ],
   "source": [
    "from sklearn.model_selection import train_test_split\n",
    "\n",
    "df = data_clean[data_clean['subreddit'].isin(subreddit_topic)]\n",
    "df = df[df['comment'].notna()]\n",
    "df.head(5)"
   ]
  },
  {
   "cell_type": "markdown",
   "id": "60b6ed5a",
   "metadata": {},
   "source": [
    "## Naive Bayes"
   ]
  },
  {
   "cell_type": "code",
   "execution_count": 31,
   "id": "1efad72d",
   "metadata": {},
   "outputs": [
    {
     "name": "stdout",
     "output_type": "stream",
     "text": [
      "  (0, 70528)\t1\n",
      "  (0, 8188)\t1\n",
      "  (0, 71343)\t1\n"
     ]
    }
   ],
   "source": [
    "from sklearn.feature_extraction.text import CountVectorizer\n",
    "\n",
    "vector = CountVectorizer(analyzer = 'word')\n",
    "data_vect = vector.fit_transform(df['comment'])\n",
    "print(data_vect[:1])"
   ]
  },
  {
   "cell_type": "code",
   "execution_count": 32,
   "id": "3a3e9a38",
   "metadata": {},
   "outputs": [
    {
     "name": "stdout",
     "output_type": "stream",
     "text": [
      "(493745, 116444) (493745,)\n",
      "(164582, 116444) (164582,)\n"
     ]
    }
   ],
   "source": [
    "from sklearn.model_selection import train_test_split\n",
    "\n",
    "X_train, X_test, y_train, y_test = train_test_split(data_vect, df['label'], test_size=0.25, random_state=42)\n",
    "\n",
    "print(X_train.shape, y_train.shape)\n",
    "print(X_test.shape, y_test.shape)"
   ]
  },
  {
   "cell_type": "code",
   "execution_count": 33,
   "id": "d82f7736",
   "metadata": {},
   "outputs": [
    {
     "name": "stdout",
     "output_type": "stream",
     "text": [
      "              precision    recall  f1-score   support\n",
      "\n",
      "           0       0.67      0.62      0.64     78722\n",
      "           1       0.67      0.71      0.69     85860\n",
      "\n",
      "    accuracy                           0.67    164582\n",
      "   macro avg       0.67      0.67      0.67    164582\n",
      "weighted avg       0.67      0.67      0.67    164582\n",
      "\n"
     ]
    }
   ],
   "source": [
    "from sklearn.metrics import classification_report,confusion_matrix\n",
    "from sklearn.naive_bayes import MultinomialNB\n",
    "import seaborn as sns\n",
    "\n",
    "nb = MultinomialNB()\n",
    "r = nb.fit(X_train, y_train)\n",
    "\n",
    "y_predicted = nb.predict(X_test)\n",
    "print(classification_report(y_test, y_predicted))"
   ]
  },
  {
   "cell_type": "code",
   "execution_count": 34,
   "id": "e719d31f",
   "metadata": {},
   "outputs": [
    {
     "data": {
      "text/plain": [
       "array([1], dtype=int64)"
      ]
     },
     "execution_count": 34,
     "metadata": {},
     "output_type": "execute_result"
    }
   ],
   "source": [
    "user_input = 'Unless your name is Google, stop acting like you know everything'\n",
    "user_input = vector.transform([user_input])\n",
    "nb.predict(user_input)"
   ]
  },
  {
   "cell_type": "code",
   "execution_count": 35,
   "id": "4f9656bf",
   "metadata": {},
   "outputs": [
    {
     "data": {
      "text/plain": [
       "<AxesSubplot:>"
      ]
     },
     "execution_count": 35,
     "metadata": {},
     "output_type": "execute_result"
    },
    {
     "data": {
      "image/png": "[encoded data removed]",
      "text/plain": [
       "<Figure size 432x288 with 2 Axes>"
      ]
     },
     "metadata": {
      "needs_background": "light"
     },
     "output_type": "display_data"
    }
   ],
   "source": [
    "cm = confusion_matrix(y_test, y_predicted)\n",
    "sns.heatmap(cm, annot=True)"
   ]
  },
  {
   "cell_type": "markdown",
   "id": "f623a13d",
   "metadata": {},
   "source": [
    "<img src='gru.PNG' width=600 align='left'>"
   ]
  },
  {
   "cell_type": "code",
   "execution_count": 36,
   "id": "7ff6406e",
   "metadata": {},
   "outputs": [],
   "source": [
    "answers = y_test.to_list() - y_predicted\n",
    "indexes = y_test.index\n",
    "\n",
    "test_results = pd.Series(index = indexes, data=answers, name='true_value')\n",
    "true_negative = test_results[test_results == 1].index.to_list()\n",
    "false_positive = test_results[test_results == -1].index.to_list()"
   ]
  },
  {
   "cell_type": "code",
   "execution_count": 37,
   "id": "45a35e66",
   "metadata": {},
   "outputs": [
    {
     "data": {
      "text/html": [
       "<div>\n",
       "<style scoped>\n",
       "    .dataframe tbody tr th:only-of-type {\n",
       "        vertical-align: middle;\n",
       "    }\n",
       "\n",
       "    .dataframe tbody tr th {\n",
       "        vertical-align: top;\n",
       "    }\n",
       "\n",
       "    .dataframe thead th {\n",
       "        text-align: right;\n",
       "    }\n",
       "</style>\n",
       "<table border=\"1\" class=\"dataframe\">\n",
       "  <thead>\n",
       "    <tr style=\"text-align: right;\">\n",
       "      <th></th>\n",
       "      <th>label</th>\n",
       "      <th>comment</th>\n",
       "      <th>subreddit</th>\n",
       "      <th>score</th>\n",
       "      <th>parent_comment</th>\n",
       "    </tr>\n",
       "  </thead>\n",
       "  <tbody>\n",
       "    <tr>\n",
       "      <th>678572</th>\n",
       "      <td>1</td>\n",
       "      <td>what a feather in their ~~cap~~ g-strings...</td>\n",
       "      <td>todayilearned</td>\n",
       "      <td>0</td>\n",
       "      <td>I live in Surfers Paradise. They don't feed th...</td>\n",
       "    </tr>\n",
       "    <tr>\n",
       "      <th>289147</th>\n",
       "      <td>1</td>\n",
       "      <td>Runic echos for that sweet movement speed.</td>\n",
       "      <td>leagueoflegends</td>\n",
       "      <td>1</td>\n",
       "      <td>As Hecarim jungle do you think its better to g...</td>\n",
       "    </tr>\n",
       "    <tr>\n",
       "      <th>542329</th>\n",
       "      <td>1</td>\n",
       "      <td>Is that a FAMAS?</td>\n",
       "      <td>guns</td>\n",
       "      <td>-1</td>\n",
       "      <td>Seattle, PD. - What does Middle Officer have? ...</td>\n",
       "    </tr>\n",
       "    <tr>\n",
       "      <th>958641</th>\n",
       "      <td>1</td>\n",
       "      <td>How did the police get there so quickly unless...</td>\n",
       "      <td>worldnews</td>\n",
       "      <td>-1</td>\n",
       "      <td>I just count the seconds till the tinfoil hatt...</td>\n",
       "    </tr>\n",
       "    <tr>\n",
       "      <th>321806</th>\n",
       "      <td>1</td>\n",
       "      <td>Better buy them up before they go contraband then</td>\n",
       "      <td>GlobalOffensive</td>\n",
       "      <td>3</td>\n",
       "      <td>The lighting strike is basically a stock image...</td>\n",
       "    </tr>\n",
       "    <tr>\n",
       "      <th>...</th>\n",
       "      <td>...</td>\n",
       "      <td>...</td>\n",
       "      <td>...</td>\n",
       "      <td>...</td>\n",
       "      <td>...</td>\n",
       "    </tr>\n",
       "    <tr>\n",
       "      <th>851408</th>\n",
       "      <td>1</td>\n",
       "      <td>It in \"the south,\" the place where everything ...</td>\n",
       "      <td>TumblrInAction</td>\n",
       "      <td>2</td>\n",
       "      <td>Wait, where is this?</td>\n",
       "    </tr>\n",
       "    <tr>\n",
       "      <th>454097</th>\n",
       "      <td>1</td>\n",
       "      <td>It's probably just some other Bernard and Jane...</td>\n",
       "      <td>politics</td>\n",
       "      <td>97</td>\n",
       "      <td>I just saw CNN shame Bernie for going to the V...</td>\n",
       "    </tr>\n",
       "    <tr>\n",
       "      <th>852900</th>\n",
       "      <td>1</td>\n",
       "      <td>Maybe they need something new to replace those...</td>\n",
       "      <td>conspiracy</td>\n",
       "      <td>0</td>\n",
       "      <td>Police in Iowa City With Population of 7,000 A...</td>\n",
       "    </tr>\n",
       "    <tr>\n",
       "      <th>996105</th>\n",
       "      <td>1</td>\n",
       "      <td>I bet you feel bad after reading that NYT arti...</td>\n",
       "      <td>guns</td>\n",
       "      <td>2</td>\n",
       "      <td>My new tricked out Saiga 12</td>\n",
       "    </tr>\n",
       "    <tr>\n",
       "      <th>306921</th>\n",
       "      <td>1</td>\n",
       "      <td>Come on, Texas!</td>\n",
       "      <td>trees</td>\n",
       "      <td>1</td>\n",
       "      <td>Come on Massachusetts!</td>\n",
       "    </tr>\n",
       "  </tbody>\n",
       "</table>\n",
       "<p>24492 rows × 5 columns</p>\n",
       "</div>"
      ],
      "text/plain": [
       "        label                                            comment  \\\n",
       "678572      1       what a feather in their ~~cap~~ g-strings...   \n",
       "289147      1         Runic echos for that sweet movement speed.   \n",
       "542329      1                                   Is that a FAMAS?   \n",
       "958641      1  How did the police get there so quickly unless...   \n",
       "321806      1  Better buy them up before they go contraband then   \n",
       "...       ...                                                ...   \n",
       "851408      1  It in \"the south,\" the place where everything ...   \n",
       "454097      1  It's probably just some other Bernard and Jane...   \n",
       "852900      1  Maybe they need something new to replace those...   \n",
       "996105      1  I bet you feel bad after reading that NYT arti...   \n",
       "306921      1                                    Come on, Texas!   \n",
       "\n",
       "              subreddit  score  \\\n",
       "678572    todayilearned      0   \n",
       "289147  leagueoflegends      1   \n",
       "542329             guns     -1   \n",
       "958641        worldnews     -1   \n",
       "321806  GlobalOffensive      3   \n",
       "...                 ...    ...   \n",
       "851408   TumblrInAction      2   \n",
       "454097         politics     97   \n",
       "852900       conspiracy      0   \n",
       "996105             guns      2   \n",
       "306921            trees      1   \n",
       "\n",
       "                                           parent_comment  \n",
       "678572  I live in Surfers Paradise. They don't feed th...  \n",
       "289147  As Hecarim jungle do you think its better to g...  \n",
       "542329  Seattle, PD. - What does Middle Officer have? ...  \n",
       "958641  I just count the seconds till the tinfoil hatt...  \n",
       "321806  The lighting strike is basically a stock image...  \n",
       "...                                                   ...  \n",
       "851408                               Wait, where is this?  \n",
       "454097  I just saw CNN shame Bernie for going to the V...  \n",
       "852900  Police in Iowa City With Population of 7,000 A...  \n",
       "996105                        My new tricked out Saiga 12  \n",
       "306921                             Come on Massachusetts!  \n",
       "\n",
       "[24492 rows x 5 columns]"
      ]
     },
     "execution_count": 37,
     "metadata": {},
     "output_type": "execute_result"
    }
   ],
   "source": [
    "# test - Sarcasm, predict - Not Sarcasm\n",
    "df.loc[true_negative]"
   ]
  },
  {
   "cell_type": "code",
   "execution_count": 38,
   "id": "e8e4d2c3",
   "metadata": {},
   "outputs": [
    {
     "data": {
      "text/html": [
       "<div>\n",
       "<style scoped>\n",
       "    .dataframe tbody tr th:only-of-type {\n",
       "        vertical-align: middle;\n",
       "    }\n",
       "\n",
       "    .dataframe tbody tr th {\n",
       "        vertical-align: top;\n",
       "    }\n",
       "\n",
       "    .dataframe thead th {\n",
       "        text-align: right;\n",
       "    }\n",
       "</style>\n",
       "<table border=\"1\" class=\"dataframe\">\n",
       "  <thead>\n",
       "    <tr style=\"text-align: right;\">\n",
       "      <th></th>\n",
       "      <th>label</th>\n",
       "      <th>comment</th>\n",
       "      <th>subreddit</th>\n",
       "      <th>score</th>\n",
       "      <th>parent_comment</th>\n",
       "    </tr>\n",
       "  </thead>\n",
       "  <tbody>\n",
       "    <tr>\n",
       "      <th>220001</th>\n",
       "      <td>0</td>\n",
       "      <td>No, you are.</td>\n",
       "      <td>AskReddit</td>\n",
       "      <td>2</td>\n",
       "      <td>But they're gay.</td>\n",
       "    </tr>\n",
       "    <tr>\n",
       "      <th>329004</th>\n",
       "      <td>0</td>\n",
       "      <td>Ah prices are very different from country to c...</td>\n",
       "      <td>pcmasterrace</td>\n",
       "      <td>1</td>\n",
       "      <td>unfortunately i live in EU and the prices i me...</td>\n",
       "    </tr>\n",
       "    <tr>\n",
       "      <th>163129</th>\n",
       "      <td>0</td>\n",
       "      <td>And they said government can't create jobs.</td>\n",
       "      <td>politics</td>\n",
       "      <td>1</td>\n",
       "      <td>Trump abandons campaign promise to penalize ou...</td>\n",
       "    </tr>\n",
       "    <tr>\n",
       "      <th>240143</th>\n",
       "      <td>0</td>\n",
       "      <td>\"WHY IS AN ANGRY MOB BEATING UP AN APE MAN?\"</td>\n",
       "      <td>fivenightsatfreddys</td>\n",
       "      <td>1</td>\n",
       "      <td>*Mom! What is Reddit?*</td>\n",
       "    </tr>\n",
       "    <tr>\n",
       "      <th>917272</th>\n",
       "      <td>0</td>\n",
       "      <td>Because Texas</td>\n",
       "      <td>pics</td>\n",
       "      <td>-1</td>\n",
       "      <td>Hmm...wonder why they picked Texas to build th...</td>\n",
       "    </tr>\n",
       "    <tr>\n",
       "      <th>...</th>\n",
       "      <td>...</td>\n",
       "      <td>...</td>\n",
       "      <td>...</td>\n",
       "      <td>...</td>\n",
       "      <td>...</td>\n",
       "    </tr>\n",
       "    <tr>\n",
       "      <th>108060</th>\n",
       "      <td>0</td>\n",
       "      <td>Nice</td>\n",
       "      <td>2007scape</td>\n",
       "      <td>94</td>\n",
       "      <td>Nice</td>\n",
       "    </tr>\n",
       "    <tr>\n",
       "      <th>589490</th>\n",
       "      <td>0</td>\n",
       "      <td>No, you're just a moron who's being ignorant o...</td>\n",
       "      <td>news</td>\n",
       "      <td>6</td>\n",
       "      <td>No there isn't, if thier i as you need neq sho...</td>\n",
       "    </tr>\n",
       "    <tr>\n",
       "      <th>968306</th>\n",
       "      <td>0</td>\n",
       "      <td>JEEEEEF</td>\n",
       "      <td>gifs</td>\n",
       "      <td>5</td>\n",
       "      <td>ie: how to pronounce it and not sound like a t...</td>\n",
       "    </tr>\n",
       "    <tr>\n",
       "      <th>471929</th>\n",
       "      <td>0</td>\n",
       "      <td>This guy really needs more recognition!</td>\n",
       "      <td>pokemon</td>\n",
       "      <td>2</td>\n",
       "      <td>Pokemon Sun &amp;amp; Moon Secrets (I didn't reali...</td>\n",
       "    </tr>\n",
       "    <tr>\n",
       "      <th>581769</th>\n",
       "      <td>0</td>\n",
       "      <td>inb4 manual elitists downvote you</td>\n",
       "      <td>teenagers</td>\n",
       "      <td>1</td>\n",
       "      <td>Get an automatic next time.</td>\n",
       "    </tr>\n",
       "  </tbody>\n",
       "</table>\n",
       "<p>29669 rows × 5 columns</p>\n",
       "</div>"
      ],
      "text/plain": [
       "        label                                            comment  \\\n",
       "220001      0                                       No, you are.   \n",
       "329004      0  Ah prices are very different from country to c...   \n",
       "163129      0        And they said government can't create jobs.   \n",
       "240143      0       \"WHY IS AN ANGRY MOB BEATING UP AN APE MAN?\"   \n",
       "917272      0                                      Because Texas   \n",
       "...       ...                                                ...   \n",
       "108060      0                                               Nice   \n",
       "589490      0  No, you're just a moron who's being ignorant o...   \n",
       "968306      0                                            JEEEEEF   \n",
       "471929      0            This guy really needs more recognition!   \n",
       "581769      0                  inb4 manual elitists downvote you   \n",
       "\n",
       "                  subreddit  score  \\\n",
       "220001            AskReddit      2   \n",
       "329004         pcmasterrace      1   \n",
       "163129             politics      1   \n",
       "240143  fivenightsatfreddys      1   \n",
       "917272                 pics     -1   \n",
       "...                     ...    ...   \n",
       "108060            2007scape     94   \n",
       "589490                 news      6   \n",
       "968306                 gifs      5   \n",
       "471929              pokemon      2   \n",
       "581769            teenagers      1   \n",
       "\n",
       "                                           parent_comment  \n",
       "220001                                   But they're gay.  \n",
       "329004  unfortunately i live in EU and the prices i me...  \n",
       "163129  Trump abandons campaign promise to penalize ou...  \n",
       "240143                             *Mom! What is Reddit?*  \n",
       "917272  Hmm...wonder why they picked Texas to build th...  \n",
       "...                                                   ...  \n",
       "108060                                               Nice  \n",
       "589490  No there isn't, if thier i as you need neq sho...  \n",
       "968306  ie: how to pronounce it and not sound like a t...  \n",
       "471929  Pokemon Sun &amp; Moon Secrets (I didn't reali...  \n",
       "581769                        Get an automatic next time.  \n",
       "\n",
       "[29669 rows x 5 columns]"
      ]
     },
     "execution_count": 38,
     "metadata": {},
     "output_type": "execute_result"
    }
   ],
   "source": [
    "# test - Not Sarcasm, predict - Sarcasm\n",
    "df.loc[false_positive]"
   ]
  },
  {
   "cell_type": "markdown",
   "id": "ca116581",
   "metadata": {},
   "source": [
    "## Logistic Regression"
   ]
  },
  {
   "cell_type": "code",
   "execution_count": 39,
   "id": "1937dad0",
   "metadata": {},
   "outputs": [],
   "source": [
    "from sklearn.feature_extraction.text import TfidfVectorizer\n",
    "from sklearn.linear_model import LogisticRegression\n",
    "from sklearn.pipeline import Pipeline"
   ]
  },
  {
   "cell_type": "code",
   "execution_count": 40,
   "id": "4905278a",
   "metadata": {},
   "outputs": [],
   "source": [
    "tf_idf = TfidfVectorizer(ngram_range=(1, 2), max_features=50000, min_df=2)\n",
    "\n",
    "logit = LogisticRegression(C=1, n_jobs=4, solver='lbfgs', \n",
    "                           random_state=17, verbose=1)\n",
    "\n",
    "tfidf_logit_pipeline = Pipeline([('tf_idf', tf_idf), \n",
    "                                 ('logit', logit)])"
   ]
  },
  {
   "cell_type": "code",
   "execution_count": 41,
   "id": "f5f8952a",
   "metadata": {},
   "outputs": [],
   "source": [
    "X_train, X_test, y_train, y_test = train_test_split(df['comment'], df['label'], test_size=0.25, random_state=42)"
   ]
  },
  {
   "cell_type": "code",
   "execution_count": 42,
   "id": "0d93ad1e",
   "metadata": {},
   "outputs": [
    {
     "name": "stderr",
     "output_type": "stream",
     "text": [
      "[Parallel(n_jobs=4)]: Using backend LokyBackend with 4 concurrent workers.\n",
      "[Parallel(n_jobs=4)]: Done   1 out of   1 | elapsed:   14.5s finished\n"
     ]
    },
    {
     "data": {
      "text/html": [
       "<style>#sk-container-id-1 {color: black;background-color: white;}#sk-container-id-1 pre{padding: 0;}#sk-container-id-1 div.sk-toggleable {background-color: white;}#sk-container-id-1 label.sk-toggleable__label {cursor: pointer;display: block;width: 100%;margin-bottom: 0;padding: 0.3em;box-sizing: border-box;text-align: center;}#sk-container-id-1 label.sk-toggleable__label-arrow:before {content: \"▸\";float: left;margin-right: 0.25em;color: #696969;}#sk-container-id-1 label.sk-toggleable__label-arrow:hover:before {color: black;}#sk-container-id-1 div.sk-estimator:hover label.sk-toggleable__label-arrow:before {color: black;}#sk-container-id-1 div.sk-toggleable__content {max-height: 0;max-width: 0;overflow: hidden;text-align: left;background-color: #f0f8ff;}#sk-container-id-1 div.sk-toggleable__content pre {margin: 0.2em;color: black;border-radius: 0.25em;background-color: #f0f8ff;}#sk-container-id-1 input.sk-toggleable__control:checked~div.sk-toggleable__content {max-height: 200px;max-width: 100%;overflow: auto;}#sk-container-id-1 input.sk-toggleable__control:checked~label.sk-toggleable__label-arrow:before {content: \"▾\";}#sk-container-id-1 div.sk-estimator input.sk-toggleable__control:checked~label.sk-toggleable__label {background-color: #d4ebff;}#sk-container-id-1 div.sk-label input.sk-toggleable__control:checked~label.sk-toggleable__label {background-color: #d4ebff;}#sk-container-id-1 input.sk-hidden--visually {border: 0;clip: rect(1px 1px 1px 1px);clip: rect(1px, 1px, 1px, 1px);height: 1px;margin: -1px;overflow: hidden;padding: 0;position: absolute;width: 1px;}#sk-container-id-1 div.sk-estimator {font-family: monospace;background-color: #f0f8ff;border: 1px dotted black;border-radius: 0.25em;box-sizing: border-box;margin-bottom: 0.5em;}#sk-container-id-1 div.sk-estimator:hover {background-color: #d4ebff;}#sk-container-id-1 div.sk-parallel-item::after {content: \"\";width: 100%;border-bottom: 1px solid gray;flex-grow: 1;}#sk-container-id-1 div.sk-label:hover label.sk-toggleable__label {background-color: #d4ebff;}#sk-container-id-1 div.sk-serial::before {content: \"\";position: absolute;border-left: 1px solid gray;box-sizing: border-box;top: 0;bottom: 0;left: 50%;z-index: 0;}#sk-container-id-1 div.sk-serial {display: flex;flex-direction: column;align-items: center;background-color: white;padding-right: 0.2em;padding-left: 0.2em;position: relative;}#sk-container-id-1 div.sk-item {position: relative;z-index: 1;}#sk-container-id-1 div.sk-parallel {display: flex;align-items: stretch;justify-content: center;background-color: white;position: relative;}#sk-container-id-1 div.sk-item::before, #sk-container-id-1 div.sk-parallel-item::before {content: \"\";position: absolute;border-left: 1px solid gray;box-sizing: border-box;top: 0;bottom: 0;left: 50%;z-index: -1;}#sk-container-id-1 div.sk-parallel-item {display: flex;flex-direction: column;z-index: 1;position: relative;background-color: white;}#sk-container-id-1 div.sk-parallel-item:first-child::after {align-self: flex-end;width: 50%;}#sk-container-id-1 div.sk-parallel-item:last-child::after {align-self: flex-start;width: 50%;}#sk-container-id-1 div.sk-parallel-item:only-child::after {width: 0;}#sk-container-id-1 div.sk-dashed-wrapped {border: 1px dashed gray;margin: 0 0.4em 0.5em 0.4em;box-sizing: border-box;padding-bottom: 0.4em;background-color: white;}#sk-container-id-1 div.sk-label label {font-family: monospace;font-weight: bold;display: inline-block;line-height: 1.2em;}#sk-container-id-1 div.sk-label-container {text-align: center;}#sk-container-id-1 div.sk-container {/* jupyter's `normalize.less` sets `[hidden] { display: none; }` but bootstrap.min.css set `[hidden] { display: none !important; }` so we also need the `!important` here to be able to override the default hidden behavior on the sphinx rendered scikit-learn.org. See: https://github.com/scikit-learn/scikit-learn/issues/21755 */display: inline-block !important;position: relative;}#sk-container-id-1 div.sk-text-repr-fallback {display: none;}</style><div id=\"sk-container-id-1\" class=\"sk-top-container\"><div class=\"sk-text-repr-fallback\"><pre>Pipeline(steps=[(&#x27;tf_idf&#x27;,\n",
       "                 TfidfVectorizer(max_features=50000, min_df=2,\n",
       "                                 ngram_range=(1, 2))),\n",
       "                (&#x27;logit&#x27;,\n",
       "                 LogisticRegression(C=1, n_jobs=4, random_state=17,\n",
       "                                    verbose=1))])</pre><b>In a Jupyter environment, please rerun this cell to show the HTML representation or trust the notebook. <br />On GitHub, the HTML representation is unable to render, please try loading this page with nbviewer.org.</b></div><div class=\"sk-container\" hidden><div class=\"sk-item sk-dashed-wrapped\"><div class=\"sk-label-container\"><div class=\"sk-label sk-toggleable\"><input class=\"sk-toggleable__control sk-hidden--visually\" id=\"sk-estimator-id-1\" type=\"checkbox\" ><label for=\"sk-estimator-id-1\" class=\"sk-toggleable__label sk-toggleable__label-arrow\">Pipeline</label><div class=\"sk-toggleable__content\"><pre>Pipeline(steps=[(&#x27;tf_idf&#x27;,\n",
       "                 TfidfVectorizer(max_features=50000, min_df=2,\n",
       "                                 ngram_range=(1, 2))),\n",
       "                (&#x27;logit&#x27;,\n",
       "                 LogisticRegression(C=1, n_jobs=4, random_state=17,\n",
       "                                    verbose=1))])</pre></div></div></div><div class=\"sk-serial\"><div class=\"sk-item\"><div class=\"sk-estimator sk-toggleable\"><input class=\"sk-toggleable__control sk-hidden--visually\" id=\"sk-estimator-id-2\" type=\"checkbox\" ><label for=\"sk-estimator-id-2\" class=\"sk-toggleable__label sk-toggleable__label-arrow\">TfidfVectorizer</label><div class=\"sk-toggleable__content\"><pre>TfidfVectorizer(max_features=50000, min_df=2, ngram_range=(1, 2))</pre></div></div></div><div class=\"sk-item\"><div class=\"sk-estimator sk-toggleable\"><input class=\"sk-toggleable__control sk-hidden--visually\" id=\"sk-estimator-id-3\" type=\"checkbox\" ><label for=\"sk-estimator-id-3\" class=\"sk-toggleable__label sk-toggleable__label-arrow\">LogisticRegression</label><div class=\"sk-toggleable__content\"><pre>LogisticRegression(C=1, n_jobs=4, random_state=17, verbose=1)</pre></div></div></div></div></div></div></div>"
      ],
      "text/plain": [
       "Pipeline(steps=[('tf_idf',\n",
       "                 TfidfVectorizer(max_features=50000, min_df=2,\n",
       "                                 ngram_range=(1, 2))),\n",
       "                ('logit',\n",
       "                 LogisticRegression(C=1, n_jobs=4, random_state=17,\n",
       "                                    verbose=1))])"
      ]
     },
     "execution_count": 42,
     "metadata": {},
     "output_type": "execute_result"
    }
   ],
   "source": [
    "tfidf_logit_pipeline.fit(X_train, y_train)"
   ]
  },
  {
   "cell_type": "code",
   "execution_count": 43,
   "id": "e6b13e31",
   "metadata": {},
   "outputs": [],
   "source": [
    "valid_pred = tfidf_logit_pipeline.predict(X_test)"
   ]
  },
  {
   "cell_type": "code",
   "execution_count": 44,
   "id": "952c76ca",
   "metadata": {},
   "outputs": [
    {
     "name": "stdout",
     "output_type": "stream",
     "text": [
      "              precision    recall  f1-score   support\n",
      "\n",
      "           0       0.70      0.73      0.71     78722\n",
      "           1       0.74      0.71      0.72     85860\n",
      "\n",
      "    accuracy                           0.72    164582\n",
      "   macro avg       0.72      0.72      0.72    164582\n",
      "weighted avg       0.72      0.72      0.72    164582\n",
      "\n"
     ]
    }
   ],
   "source": [
    "# Tfidf Logistic Regression Results\n",
    "print(classification_report(y_test, valid_pred))"
   ]
  },
  {
   "cell_type": "code",
   "execution_count": 45,
   "id": "2afbac0a",
   "metadata": {},
   "outputs": [
    {
     "name": "stdout",
     "output_type": "stream",
     "text": [
      "Your message: Am I Batman? No\n"
     ]
    },
    {
     "data": {
      "text/plain": [
       "array([0], dtype=int64)"
      ]
     },
     "execution_count": 45,
     "metadata": {},
     "output_type": "execute_result"
    }
   ],
   "source": [
    "user_input = input(\"Your message: \")\n",
    "valid_pred = tfidf_logit_pipeline.predict([user_input])\n",
    "valid_pred"
   ]
  },
  {
   "cell_type": "code",
   "execution_count": 46,
   "id": "4ab558e1",
   "metadata": {},
   "outputs": [
    {
     "name": "stdout",
     "output_type": "stream",
     "text": [
      "Your message: I am racist and I love it\n"
     ]
    },
    {
     "data": {
      "text/plain": [
       "array([1], dtype=int64)"
      ]
     },
     "execution_count": 46,
     "metadata": {},
     "output_type": "execute_result"
    }
   ],
   "source": [
    "user_input = input(\"Your message: \")\n",
    "valid_pred = tfidf_logit_pipeline.predict([user_input])\n",
    "valid_pred"
   ]
  },
  {
   "cell_type": "markdown",
   "id": "5f587ef1",
   "metadata": {},
   "source": [
    "## LSTM/ GRU"
   ]
  },
  {
   "cell_type": "markdown",
   "id": "4c86850a",
   "metadata": {},
   "source": [
    "Too long to train AND not the best performance!"
   ]
  },
  {
   "cell_type": "markdown",
   "id": "a4c4a82f",
   "metadata": {},
   "source": [
    "<img src='lstm.PNG' width=600 align='left'>"
   ]
  },
  {
   "cell_type": "markdown",
   "id": "540f7b0d",
   "metadata": {},
   "source": [
    "<a href='https://colab.research.google.com/drive/1HghkpcdX0QPTNVsbfW_MmLG2-3NKUb3Z?usp=sharing'> Link to Google Colab </a>"
   ]
  },
  {
   "cell_type": "markdown",
   "id": "4f3939b8",
   "metadata": {},
   "source": [
    "## Transformers"
   ]
  },
  {
   "cell_type": "code",
   "execution_count": 47,
   "id": "619344e8",
   "metadata": {},
   "outputs": [],
   "source": [
    "from transformers import AutoTokenizer, AutoModelForSequenceClassification\n",
    "import string\n",
    "\n",
    "tokenizer = AutoTokenizer.from_pretrained(\"jkhan447/sarcasm-detection-RoBerta-base-CR\")\n",
    "model = AutoModelForSequenceClassification.from_pretrained(\"jkhan447/sarcasm-detection-RoBerta-base-CR\")\n",
    "\n",
    "def preprocess_data(text: str) -> str:\n",
    "    return text.lower().translate(str.maketrans(\"\", \"\", string.punctuation)).strip()"
   ]
  },
  {
   "cell_type": "code",
   "execution_count": 48,
   "id": "d609a7b2",
   "metadata": {},
   "outputs": [
    {
     "data": {
      "text/plain": [
       "99.9998"
      ]
     },
     "execution_count": 48,
     "metadata": {},
     "output_type": "execute_result"
    }
   ],
   "source": [
    "def predict_sarcasm(user_input, model=model, tokenizer=tokenizer):\n",
    "    try:    \n",
    "        tokenized_text = tokenizer([preprocess_data(user_input)], padding=True, truncation=True, max_length=256, \n",
    "                                   return_tensors=\"pt\")\n",
    "        output = model(**tokenized_text)\n",
    "        probs = output.logits.softmax(dim=-1).tolist()[0]\n",
    "        return round((0*probs[0]+1*probs[1])*100, 4)\n",
    "    except:\n",
    "        return \"Some errors. Try again!\"\n",
    "\n",
    "predict_sarcasm('Unless your name is Google, stop acting like you know everything')"
   ]
  },
  {
   "cell_type": "code",
   "execution_count": 49,
   "id": "5fb090e5",
   "metadata": {},
   "outputs": [
    {
     "data": {
      "text/plain": [
       "0.013"
      ]
     },
     "execution_count": 49,
     "metadata": {},
     "output_type": "execute_result"
    }
   ],
   "source": [
    "predict_sarcasm('I applied for university yesterday')"
   ]
  },
  {
   "cell_type": "code",
   "execution_count": 50,
   "id": "60b3de3f",
   "metadata": {},
   "outputs": [
    {
     "data": {
      "text/plain": [
       "0.0002"
      ]
     },
     "execution_count": 50,
     "metadata": {},
     "output_type": "execute_result"
    }
   ],
   "source": [
    "i = '7'\n",
    "predict_sarcasm(i)"
   ]
  },
  {
   "cell_type": "markdown",
   "id": "4d0e6c21",
   "metadata": {},
   "source": [
    "<img src='batsy.PNG' align='left' width=400>"
   ]
  },
  {
   "cell_type": "markdown",
   "id": "e567f437",
   "metadata": {},
   "source": [
    "### Testing our test cases"
   ]
  },
  {
   "cell_type": "code",
   "execution_count": 52,
   "id": "6182e1cc",
   "metadata": {
    "scrolled": true
   },
   "outputs": [
    {
     "name": "stdout",
     "output_type": "stream",
     "text": [
      "Going to Africa today. Hope I don't get AIDS. Joking, I am white!!\n"
     ]
    },
    {
     "data": {
      "text/plain": [
       "99.9998"
      ]
     },
     "execution_count": 52,
     "metadata": {},
     "output_type": "execute_result"
    }
   ],
   "source": [
    "print(text)\n",
    "predict_sarcasm(text)"
   ]
  },
  {
   "cell_type": "code",
   "execution_count": 53,
   "id": "201e0b32",
   "metadata": {},
   "outputs": [
    {
     "name": "stdout",
     "output_type": "stream",
     "text": [
      "My favorite thing to do at 4am is to go to the airport. And yours??\n"
     ]
    },
    {
     "data": {
      "text/plain": [
       "0.0007"
      ]
     },
     "execution_count": 53,
     "metadata": {},
     "output_type": "execute_result"
    }
   ],
   "source": [
    "print(text2)\n",
    "predict_sarcasm(text2)"
   ]
  },
  {
   "cell_type": "code",
   "execution_count": 54,
   "id": "ee29aa89",
   "metadata": {},
   "outputs": [
    {
     "name": "stdout",
     "output_type": "stream",
     "text": [
      "Wow, I really didn’t expect you to pass that exam. Good for you!!!\n"
     ]
    },
    {
     "data": {
      "text/plain": [
       "99.9992"
      ]
     },
     "execution_count": 54,
     "metadata": {},
     "output_type": "execute_result"
    }
   ],
   "source": [
    "print(text3)\n",
    "predict_sarcasm(text3)"
   ]
  },
  {
   "cell_type": "code",
   "execution_count": 55,
   "id": "6d294081",
   "metadata": {},
   "outputs": [
    {
     "name": "stdout",
     "output_type": "stream",
     "text": [
      "Thank you for your feedback. It WaS ReAlLy InSIgGhTFul!\n"
     ]
    },
    {
     "data": {
      "text/plain": [
       "99.9202"
      ]
     },
     "execution_count": 55,
     "metadata": {},
     "output_type": "execute_result"
    }
   ],
   "source": [
    "print(text4)\n",
    "predict_sarcasm(text4)"
   ]
  },
  {
   "cell_type": "code",
   "execution_count": null,
   "id": "8a42afd3",
   "metadata": {},
   "outputs": [],
   "source": [
    "import math\n",
    "text5 = input()\n",
    "\n",
    "a = predict_sarcasm(text5)\n",
    "math.ceil(a)"
   ]
  },
  {
   "cell_type": "markdown",
   "id": "01fbcbd6",
   "metadata": {},
   "source": [
    "## GUI"
   ]
  },
  {
   "cell_type": "code",
   "execution_count": null,
   "id": "fc5d1581",
   "metadata": {},
   "outputs": [],
   "source": [
    "!pip install tk_tools"
   ]
  },
  {
   "cell_type": "code",
   "execution_count": 95,
   "id": "c94067cc",
   "metadata": {
    "scrolled": true
   },
   "outputs": [],
   "source": [
    "result = \"sarcasm / not sarcasm\"\n",
    "\n",
    "from tkinter import *\n",
    "import tk_tools\n",
    "\n",
    "win = Tk()\n",
    "win.title(\"Sarcasm Detector\")\n",
    "win.geometry(\"400x400\")\n",
    "win.resizable(False, False)\n",
    "\n",
    "lab_1 = Label(win, height=1, font=(\"TkDefaultFont\", 20))\n",
    "lab_1['text'] = \"Detect a sarcasm\"\n",
    "\n",
    "lab_2 = Label(win, height=2, font=(\"TkDefaultFont\", 15))\n",
    "lab_2['text'] = \"Enter a text\"\n",
    "\n",
    "text_1=Text(win,width=70, height=5)\n",
    "\n",
    "# print(help(text_1))\n",
    "# print(type(text_1))\n",
    "\n",
    "lab_3 = Label(win)\n",
    "\n",
    "\n",
    "def getResult():\n",
    "    a = math.ceil(predict_sarcasm(text_1.get(\"1.0\", END)))\n",
    "    if a > 50:\n",
    "        result = 'sarcasm'\n",
    "    else:\n",
    "        result = 'not sarcasm'\n",
    "    lab_3.config(text=\"This sentence is probably:\\n\"+result)\n",
    "    gauge.set_value(a)\n",
    "\n",
    "button = Button(win,text=\"Analyze\",relief=\"raised\",overrelief=\"sunken\", width=20, command=getResult)\n",
    "\n",
    "gauge = tk_tools.Gauge(win, max_value=100.0, label='Sarcasm', unit='%')\n",
    "\n",
    "lab_1.pack()\n",
    "lab_2.pack()\n",
    "text_1.pack()\n",
    "button.place(x=125, y=180)\n",
    "gauge.place(x=98, y=270)\n",
    "lab_3.place(x=130, y=220)\n",
    "\n",
    "win.mainloop()"
   ]
  }
 ],
 "metadata": {
  "kernelspec": {
   "display_name": "Python 3",
   "language": "python",
   "name": "python3"
  },
  "language_info": {
   "codemirror_mode": {
    "name": "ipython",
    "version": 3
   },
   "file_extension": ".py",
   "mimetype": "text/x-python",
   "name": "python",
   "nbconvert_exporter": "python",
   "pygments_lexer": "ipython3",
   "version": "3.8.8"
  }
 },
 "nbformat": 4,
 "nbformat_minor": 5
}
